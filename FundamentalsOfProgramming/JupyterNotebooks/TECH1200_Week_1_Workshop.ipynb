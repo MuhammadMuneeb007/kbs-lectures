{
  "cells": [
    {
      "cell_type": "code",
      "execution_count": null,
      "id": "ds5ARc4pskFj",
      "metadata": {
        "colab": {
          "background_save": true,
          "base_uri": "https://localhost:8080/",
          "height": 1000
        },
        "id": "ds5ARc4pskFj",
        "outputId": "5f5963af-554e-4141-a9e5-1411919d3e44"
      },
      "outputs": [
        {
          "data": {
            "text/markdown": "What does the following code snippet output? \n\n variable_name = 'World' \n \n print('Hello ' + variable_name + '!')",
            "text/plain": [
              "<IPython.core.display.Markdown object>"
            ]
          },
          "metadata": {},
          "output_type": "display_data"
        },
        {
          "data": {
            "text/markdown": "- A. Hello World!",
            "text/plain": [
              "<IPython.core.display.Markdown object>"
            ]
          },
          "metadata": {},
          "output_type": "display_data"
        },
        {
          "data": {
            "text/markdown": "- B. Hello + variable_name + !",
            "text/plain": [
              "<IPython.core.display.Markdown object>"
            ]
          },
          "metadata": {},
          "output_type": "display_data"
        },
        {
          "data": {
            "text/markdown": "- C. Hello 'World'!",
            "text/plain": [
              "<IPython.core.display.Markdown object>"
            ]
          },
          "metadata": {},
          "output_type": "display_data"
        },
        {
          "data": {
            "text/markdown": "- D. Error",
            "text/plain": [
              "<IPython.core.display.Markdown object>"
            ]
          },
          "metadata": {},
          "output_type": "display_data"
        },
        {
          "name": "stdout",
          "output_type": "stream",
          "text": [
            "Q1: Correct!\n",
            "\n"
          ]
        },
        {
          "data": {
            "text/markdown": "Which function is used to print a message to the console in Python?",
            "text/plain": [
              "<IPython.core.display.Markdown object>"
            ]
          },
          "metadata": {},
          "output_type": "display_data"
        },
        {
          "data": {
            "text/markdown": "- A. print()",
            "text/plain": [
              "<IPython.core.display.Markdown object>"
            ]
          },
          "metadata": {},
          "output_type": "display_data"
        },
        {
          "data": {
            "text/markdown": "- B. display()",
            "text/plain": [
              "<IPython.core.display.Markdown object>"
            ]
          },
          "metadata": {},
          "output_type": "display_data"
        },
        {
          "data": {
            "text/markdown": "- C. show()",
            "text/plain": [
              "<IPython.core.display.Markdown object>"
            ]
          },
          "metadata": {},
          "output_type": "display_data"
        },
        {
          "data": {
            "text/markdown": "- D. console.log()",
            "text/plain": [
              "<IPython.core.display.Markdown object>"
            ]
          },
          "metadata": {},
          "output_type": "display_data"
        },
        {
          "name": "stdout",
          "output_type": "stream",
          "text": [
            "Q2: Correct!\n",
            "\n"
          ]
        },
        {
          "data": {
            "text/markdown": "How should strings be enclosed in Python?",
            "text/plain": [
              "<IPython.core.display.Markdown object>"
            ]
          },
          "metadata": {},
          "output_type": "display_data"
        },
        {
          "data": {
            "text/markdown": "- A. Single quotes only",
            "text/plain": [
              "<IPython.core.display.Markdown object>"
            ]
          },
          "metadata": {},
          "output_type": "display_data"
        },
        {
          "data": {
            "text/markdown": "- B. Double quotes only",
            "text/plain": [
              "<IPython.core.display.Markdown object>"
            ]
          },
          "metadata": {},
          "output_type": "display_data"
        },
        {
          "data": {
            "text/markdown": "- C. Either single or double quotes",
            "text/plain": [
              "<IPython.core.display.Markdown object>"
            ]
          },
          "metadata": {},
          "output_type": "display_data"
        },
        {
          "data": {
            "text/markdown": "- D. Triple quotes",
            "text/plain": [
              "<IPython.core.display.Markdown object>"
            ]
          },
          "metadata": {},
          "output_type": "display_data"
        },
        {
          "name": "stdout",
          "output_type": "stream",
          "text": [
            "Q3: Correct!\n",
            "\n"
          ]
        },
        {
          "data": {
            "text/markdown": "What is the correct way to assign a value to a variable in Python?",
            "text/plain": [
              "<IPython.core.display.Markdown object>"
            ]
          },
          "metadata": {},
          "output_type": "display_data"
        },
        {
          "data": {
            "text/markdown": "- A. var = value",
            "text/plain": [
              "<IPython.core.display.Markdown object>"
            ]
          },
          "metadata": {},
          "output_type": "display_data"
        },
        {
          "data": {
            "text/markdown": "- B. set var = value",
            "text/plain": [
              "<IPython.core.display.Markdown object>"
            ]
          },
          "metadata": {},
          "output_type": "display_data"
        },
        {
          "data": {
            "text/markdown": "- C. var <- value",
            "text/plain": [
              "<IPython.core.display.Markdown object>"
            ]
          },
          "metadata": {},
          "output_type": "display_data"
        },
        {
          "data": {
            "text/markdown": "- D. var := value",
            "text/plain": [
              "<IPython.core.display.Markdown object>"
            ]
          },
          "metadata": {},
          "output_type": "display_data"
        },
        {
          "name": "stdout",
          "output_type": "stream",
          "text": [
            "Q4: Correct!\n",
            "\n"
          ]
        },
        {
          "data": {
            "text/markdown": "What is the output of this code?\n\nvariable = 100♂variable = 'This is the value'♂print(variable)",
            "text/plain": [
              "<IPython.core.display.Markdown object>"
            ]
          },
          "metadata": {},
          "output_type": "display_data"
        },
        {
          "data": {
            "text/markdown": "- A. This is the value",
            "text/plain": [
              "<IPython.core.display.Markdown object>"
            ]
          },
          "metadata": {},
          "output_type": "display_data"
        },
        {
          "data": {
            "text/markdown": "- B. 100",
            "text/plain": [
              "<IPython.core.display.Markdown object>"
            ]
          },
          "metadata": {},
          "output_type": "display_data"
        },
        {
          "data": {
            "text/markdown": "- C. Error",
            "text/plain": [
              "<IPython.core.display.Markdown object>"
            ]
          },
          "metadata": {},
          "output_type": "display_data"
        },
        {
          "data": {
            "text/markdown": "- D. This is the value 100",
            "text/plain": [
              "<IPython.core.display.Markdown object>"
            ]
          },
          "metadata": {},
          "output_type": "display_data"
        },
        {
          "name": "stdout",
          "output_type": "stream",
          "text": [
            "Q5: Correct!\n",
            "\n"
          ]
        },
        {
          "data": {
            "text/markdown": "What character marks the beginning of a comment in Python?",
            "text/plain": [
              "<IPython.core.display.Markdown object>"
            ]
          },
          "metadata": {},
          "output_type": "display_data"
        },
        {
          "data": {
            "text/markdown": "- A. //",
            "text/plain": [
              "<IPython.core.display.Markdown object>"
            ]
          },
          "metadata": {},
          "output_type": "display_data"
        },
        {
          "data": {
            "text/markdown": "- B. /*",
            "text/plain": [
              "<IPython.core.display.Markdown object>"
            ]
          },
          "metadata": {},
          "output_type": "display_data"
        },
        {
          "data": {
            "text/markdown": "- C. #",
            "text/plain": [
              "<IPython.core.display.Markdown object>"
            ]
          },
          "metadata": {},
          "output_type": "display_data"
        },
        {
          "data": {
            "text/markdown": "- D. --",
            "text/plain": [
              "<IPython.core.display.Markdown object>"
            ]
          },
          "metadata": {},
          "output_type": "display_data"
        },
        {
          "name": "stdout",
          "output_type": "stream",
          "text": [
            "Q6: Correct!\n",
            "\n"
          ]
        },
        {
          "data": {
            "text/markdown": "What type of error is produced when Python detects an incorrect syntax?",
            "text/plain": [
              "<IPython.core.display.Markdown object>"
            ]
          },
          "metadata": {},
          "output_type": "display_data"
        },
        {
          "data": {
            "text/markdown": "- A. SyntaxError",
            "text/plain": [
              "<IPython.core.display.Markdown object>"
            ]
          },
          "metadata": {},
          "output_type": "display_data"
        },
        {
          "data": {
            "text/markdown": "- B. TypeError",
            "text/plain": [
              "<IPython.core.display.Markdown object>"
            ]
          },
          "metadata": {},
          "output_type": "display_data"
        },
        {
          "data": {
            "text/markdown": "- C. ValueError",
            "text/plain": [
              "<IPython.core.display.Markdown object>"
            ]
          },
          "metadata": {},
          "output_type": "display_data"
        },
        {
          "data": {
            "text/markdown": "- D. KeyError",
            "text/plain": [
              "<IPython.core.display.Markdown object>"
            ]
          },
          "metadata": {},
          "output_type": "display_data"
        },
        {
          "name": "stdout",
          "output_type": "stream",
          "text": [
            "Q7: Correct!\n",
            "\n"
          ]
        },
        {
          "data": {
            "text/markdown": "What type of error is produced when a variable is used without being defined?",
            "text/plain": [
              "<IPython.core.display.Markdown object>"
            ]
          },
          "metadata": {},
          "output_type": "display_data"
        },
        {
          "data": {
            "text/markdown": "- A. SyntaxError",
            "text/plain": [
              "<IPython.core.display.Markdown object>"
            ]
          },
          "metadata": {},
          "output_type": "display_data"
        },
        {
          "data": {
            "text/markdown": "- B. TypeError",
            "text/plain": [
              "<IPython.core.display.Markdown object>"
            ]
          },
          "metadata": {},
          "output_type": "display_data"
        },
        {
          "data": {
            "text/markdown": "- C. ValueError",
            "text/plain": [
              "<IPython.core.display.Markdown object>"
            ]
          },
          "metadata": {},
          "output_type": "display_data"
        },
        {
          "data": {
            "text/markdown": "- D. NameError",
            "text/plain": [
              "<IPython.core.display.Markdown object>"
            ]
          },
          "metadata": {},
          "output_type": "display_data"
        },
        {
          "name": "stdout",
          "output_type": "stream",
          "text": [
            "Q8: Correct!\n",
            "\n"
          ]
        },
        {
          "data": {
            "text/markdown": "What error will you get when dividing a number by zero in Python?",
            "text/plain": [
              "<IPython.core.display.Markdown object>"
            ]
          },
          "metadata": {},
          "output_type": "display_data"
        },
        {
          "data": {
            "text/markdown": "- A. ZeroError",
            "text/plain": [
              "<IPython.core.display.Markdown object>"
            ]
          },
          "metadata": {},
          "output_type": "display_data"
        },
        {
          "data": {
            "text/markdown": "- B. DivideByZeroError",
            "text/plain": [
              "<IPython.core.display.Markdown object>"
            ]
          },
          "metadata": {},
          "output_type": "display_data"
        },
        {
          "data": {
            "text/markdown": "- C. MathError",
            "text/plain": [
              "<IPython.core.display.Markdown object>"
            ]
          },
          "metadata": {},
          "output_type": "display_data"
        },
        {
          "data": {
            "text/markdown": "- D. ZeroDivisionError",
            "text/plain": [
              "<IPython.core.display.Markdown object>"
            ]
          },
          "metadata": {},
          "output_type": "display_data"
        },
        {
          "name": "stdout",
          "output_type": "stream",
          "text": [
            "Q9: Correct!\n",
            "\n"
          ]
        },
        {
          "data": {
            "text/markdown": "Which of the following is NOT a numeric type in Python?",
            "text/plain": [
              "<IPython.core.display.Markdown object>"
            ]
          },
          "metadata": {},
          "output_type": "display_data"
        },
        {
          "data": {
            "text/markdown": "- A. int",
            "text/plain": [
              "<IPython.core.display.Markdown object>"
            ]
          },
          "metadata": {},
          "output_type": "display_data"
        },
        {
          "data": {
            "text/markdown": "- B. float",
            "text/plain": [
              "<IPython.core.display.Markdown object>"
            ]
          },
          "metadata": {},
          "output_type": "display_data"
        },
        {
          "data": {
            "text/markdown": "- C. double",
            "text/plain": [
              "<IPython.core.display.Markdown object>"
            ]
          },
          "metadata": {},
          "output_type": "display_data"
        },
        {
          "data": {
            "text/markdown": "- D. complex",
            "text/plain": [
              "<IPython.core.display.Markdown object>"
            ]
          },
          "metadata": {},
          "output_type": "display_data"
        },
        {
          "name": "stdout",
          "output_type": "stream",
          "text": [
            "Q10: Correct!\n",
            "\n"
          ]
        },
        {
          "data": {
            "text/markdown": "What type is variable 'd' in the following code?\n\nd = '678'♂print(type(d))",
            "text/plain": [
              "<IPython.core.display.Markdown object>"
            ]
          },
          "metadata": {},
          "output_type": "display_data"
        },
        {
          "data": {
            "text/markdown": "- A. int",
            "text/plain": [
              "<IPython.core.display.Markdown object>"
            ]
          },
          "metadata": {},
          "output_type": "display_data"
        },
        {
          "data": {
            "text/markdown": "- B. float",
            "text/plain": [
              "<IPython.core.display.Markdown object>"
            ]
          },
          "metadata": {},
          "output_type": "display_data"
        },
        {
          "data": {
            "text/markdown": "- C. str",
            "text/plain": [
              "<IPython.core.display.Markdown object>"
            ]
          },
          "metadata": {},
          "output_type": "display_data"
        },
        {
          "data": {
            "text/markdown": "- D. list",
            "text/plain": [
              "<IPython.core.display.Markdown object>"
            ]
          },
          "metadata": {},
          "output_type": "display_data"
        },
        {
          "name": "stdout",
          "output_type": "stream",
          "text": [
            "Q11: Correct!\n",
            "\n"
          ]
        },
        {
          "data": {
            "text/markdown": "What does the ** operator do in Python?",
            "text/plain": [
              "<IPython.core.display.Markdown object>"
            ]
          },
          "metadata": {},
          "output_type": "display_data"
        },
        {
          "data": {
            "text/markdown": "- A. Floor division",
            "text/plain": [
              "<IPython.core.display.Markdown object>"
            ]
          },
          "metadata": {},
          "output_type": "display_data"
        },
        {
          "data": {
            "text/markdown": "- B. Exponentiation",
            "text/plain": [
              "<IPython.core.display.Markdown object>"
            ]
          },
          "metadata": {},
          "output_type": "display_data"
        },
        {
          "data": {
            "text/markdown": "- C. Modulo",
            "text/plain": [
              "<IPython.core.display.Markdown object>"
            ]
          },
          "metadata": {},
          "output_type": "display_data"
        },
        {
          "data": {
            "text/markdown": "- D. Bitwise AND",
            "text/plain": [
              "<IPython.core.display.Markdown object>"
            ]
          },
          "metadata": {},
          "output_type": "display_data"
        },
        {
          "name": "stdout",
          "output_type": "stream",
          "text": [
            "Q12: Incorrect. The correct answer is 'B'.\n",
            "\n"
          ]
        },
        {
          "data": {
            "text/markdown": "What does the % operator do in Python?",
            "text/plain": [
              "<IPython.core.display.Markdown object>"
            ]
          },
          "metadata": {},
          "output_type": "display_data"
        },
        {
          "data": {
            "text/markdown": "- A. Addition",
            "text/plain": [
              "<IPython.core.display.Markdown object>"
            ]
          },
          "metadata": {},
          "output_type": "display_data"
        },
        {
          "data": {
            "text/markdown": "- B. Subtraction",
            "text/plain": [
              "<IPython.core.display.Markdown object>"
            ]
          },
          "metadata": {},
          "output_type": "display_data"
        },
        {
          "data": {
            "text/markdown": "- C. Multiplication",
            "text/plain": [
              "<IPython.core.display.Markdown object>"
            ]
          },
          "metadata": {},
          "output_type": "display_data"
        },
        {
          "data": {
            "text/markdown": "- D. Modulo",
            "text/plain": [
              "<IPython.core.display.Markdown object>"
            ]
          },
          "metadata": {},
          "output_type": "display_data"
        },
        {
          "name": "stdout",
          "output_type": "stream",
          "text": [
            "Q13: Correct!\n",
            "\n"
          ]
        },
        {
          "data": {
            "text/markdown": "Which operator is used for string concatenation in Python?",
            "text/plain": [
              "<IPython.core.display.Markdown object>"
            ]
          },
          "metadata": {},
          "output_type": "display_data"
        },
        {
          "data": {
            "text/markdown": "- A. +",
            "text/plain": [
              "<IPython.core.display.Markdown object>"
            ]
          },
          "metadata": {},
          "output_type": "display_data"
        },
        {
          "data": {
            "text/markdown": "- B. -",
            "text/plain": [
              "<IPython.core.display.Markdown object>"
            ]
          },
          "metadata": {},
          "output_type": "display_data"
        },
        {
          "data": {
            "text/markdown": "- C. *",
            "text/plain": [
              "<IPython.core.display.Markdown object>"
            ]
          },
          "metadata": {},
          "output_type": "display_data"
        },
        {
          "data": {
            "text/markdown": "- D. /",
            "text/plain": [
              "<IPython.core.display.Markdown object>"
            ]
          },
          "metadata": {},
          "output_type": "display_data"
        },
        {
          "name": "stdout",
          "output_type": "stream",
          "text": [
            "Q14: Correct!\n",
            "\n"
          ]
        },
        {
          "data": {
            "text/markdown": "What is the result of the expression 'Hello' + 'World'?",
            "text/plain": [
              "<IPython.core.display.Markdown object>"
            ]
          },
          "metadata": {},
          "output_type": "display_data"
        },
        {
          "data": {
            "text/markdown": "- A. HelloWorld",
            "text/plain": [
              "<IPython.core.display.Markdown object>"
            ]
          },
          "metadata": {},
          "output_type": "display_data"
        },
        {
          "data": {
            "text/markdown": "- B. Hello World",
            "text/plain": [
              "<IPython.core.display.Markdown object>"
            ]
          },
          "metadata": {},
          "output_type": "display_data"
        },
        {
          "data": {
            "text/markdown": "- C. Error",
            "text/plain": [
              "<IPython.core.display.Markdown object>"
            ]
          },
          "metadata": {},
          "output_type": "display_data"
        },
        {
          "data": {
            "text/markdown": "- D. Hello + World",
            "text/plain": [
              "<IPython.core.display.Markdown object>"
            ]
          },
          "metadata": {},
          "output_type": "display_data"
        },
        {
          "name": "stdout",
          "output_type": "stream",
          "text": [
            "Q15: Correct!\n",
            "\n"
          ]
        },
        {
          "data": {
            "text/markdown": "What does the += operator do in Python?",
            "text/plain": [
              "<IPython.core.display.Markdown object>"
            ]
          },
          "metadata": {},
          "output_type": "display_data"
        },
        {
          "data": {
            "text/markdown": "- A. Subtracts from a variable",
            "text/plain": [
              "<IPython.core.display.Markdown object>"
            ]
          },
          "metadata": {},
          "output_type": "display_data"
        },
        {
          "data": {
            "text/markdown": "- B. Multiplies a variable",
            "text/plain": [
              "<IPython.core.display.Markdown object>"
            ]
          },
          "metadata": {},
          "output_type": "display_data"
        },
        {
          "data": {
            "text/markdown": "- C. Divides a variable",
            "text/plain": [
              "<IPython.core.display.Markdown object>"
            ]
          },
          "metadata": {},
          "output_type": "display_data"
        },
        {
          "data": {
            "text/markdown": "- D. Adds to a variable",
            "text/plain": [
              "<IPython.core.display.Markdown object>"
            ]
          },
          "metadata": {},
          "output_type": "display_data"
        },
        {
          "name": "stdout",
          "output_type": "stream",
          "text": [
            "Q16: Correct!\n",
            "\n"
          ]
        },
        {
          "data": {
            "text/markdown": "How can multiline strings be defined in Python?",
            "text/plain": [
              "<IPython.core.display.Markdown object>"
            ]
          },
          "metadata": {},
          "output_type": "display_data"
        },
        {
          "data": {
            "text/markdown": "- A. Using parentheses",
            "text/plain": [
              "<IPython.core.display.Markdown object>"
            ]
          },
          "metadata": {},
          "output_type": "display_data"
        },
        {
          "data": {
            "text/markdown": "- B. Using single quotes",
            "text/plain": [
              "<IPython.core.display.Markdown object>"
            ]
          },
          "metadata": {},
          "output_type": "display_data"
        },
        {
          "data": {
            "text/markdown": "- C. Using triple quotes",
            "text/plain": [
              "<IPython.core.display.Markdown object>"
            ]
          },
          "metadata": {},
          "output_type": "display_data"
        },
        {
          "data": {
            "text/markdown": "- D. Using square brackets",
            "text/plain": [
              "<IPython.core.display.Markdown object>"
            ]
          },
          "metadata": {},
          "output_type": "display_data"
        },
        {
          "name": "stdout",
          "output_type": "stream",
          "text": [
            "Q17: Correct!\n",
            "\n"
          ]
        },
        {
          "data": {
            "text/markdown": "Which function is used to determine the type of a variable?",
            "text/plain": [
              "<IPython.core.display.Markdown object>"
            ]
          },
          "metadata": {},
          "output_type": "display_data"
        },
        {
          "data": {
            "text/markdown": "- A. typeof()",
            "text/plain": [
              "<IPython.core.display.Markdown object>"
            ]
          },
          "metadata": {},
          "output_type": "display_data"
        },
        {
          "data": {
            "text/markdown": "- B. type()",
            "text/plain": [
              "<IPython.core.display.Markdown object>"
            ]
          },
          "metadata": {},
          "output_type": "display_data"
        },
        {
          "data": {
            "text/markdown": "- C. variable_type()",
            "text/plain": [
              "<IPython.core.display.Markdown object>"
            ]
          },
          "metadata": {},
          "output_type": "display_data"
        },
        {
          "data": {
            "text/markdown": "- D. typeof",
            "text/plain": [
              "<IPython.core.display.Markdown object>"
            ]
          },
          "metadata": {},
          "output_type": "display_data"
        },
        {
          "name": "stdout",
          "output_type": "stream",
          "text": [
            "Q18: Correct!\n",
            "\n"
          ]
        },
        {
          "data": {
            "text/markdown": "What is the output of 6.2 * 100?",
            "text/plain": [
              "<IPython.core.display.Markdown object>"
            ]
          },
          "metadata": {},
          "output_type": "display_data"
        },
        {
          "data": {
            "text/markdown": "- A. 620",
            "text/plain": [
              "<IPython.core.display.Markdown object>"
            ]
          },
          "metadata": {},
          "output_type": "display_data"
        },
        {
          "data": {
            "text/markdown": "- B. 6.2",
            "text/plain": [
              "<IPython.core.display.Markdown object>"
            ]
          },
          "metadata": {},
          "output_type": "display_data"
        },
        {
          "data": {
            "text/markdown": "- C. 62.0",
            "text/plain": [
              "<IPython.core.display.Markdown object>"
            ]
          },
          "metadata": {},
          "output_type": "display_data"
        },
        {
          "data": {
            "text/markdown": "- D. 620.0",
            "text/plain": [
              "<IPython.core.display.Markdown object>"
            ]
          },
          "metadata": {},
          "output_type": "display_data"
        },
        {
          "name": "stdout",
          "output_type": "stream",
          "text": [
            "Q19: Correct!\n",
            "\n"
          ]
        },
        {
          "data": {
            "text/markdown": "What is the result of 2 ** 0.5?",
            "text/plain": [
              "<IPython.core.display.Markdown object>"
            ]
          },
          "metadata": {},
          "output_type": "display_data"
        },
        {
          "data": {
            "text/markdown": "- A. 1.41",
            "text/plain": [
              "<IPython.core.display.Markdown object>"
            ]
          },
          "metadata": {},
          "output_type": "display_data"
        },
        {
          "data": {
            "text/markdown": "- B. 4",
            "text/plain": [
              "<IPython.core.display.Markdown object>"
            ]
          },
          "metadata": {},
          "output_type": "display_data"
        },
        {
          "data": {
            "text/markdown": "- C. 2",
            "text/plain": [
              "<IPython.core.display.Markdown object>"
            ]
          },
          "metadata": {},
          "output_type": "display_data"
        },
        {
          "data": {
            "text/markdown": "- D. 0.5",
            "text/plain": [
              "<IPython.core.display.Markdown object>"
            ]
          },
          "metadata": {},
          "output_type": "display_data"
        },
        {
          "name": "stdout",
          "output_type": "stream",
          "text": [
            "Q20: Correct!\n",
            "\n"
          ]
        },
        {
          "data": {
            "text/markdown": "What does the % operator return for 21 % 2?",
            "text/plain": [
              "<IPython.core.display.Markdown object>"
            ]
          },
          "metadata": {},
          "output_type": "display_data"
        },
        {
          "data": {
            "text/markdown": "- A. 0",
            "text/plain": [
              "<IPython.core.display.Markdown object>"
            ]
          },
          "metadata": {},
          "output_type": "display_data"
        },
        {
          "data": {
            "text/markdown": "- B. 1",
            "text/plain": [
              "<IPython.core.display.Markdown object>"
            ]
          },
          "metadata": {},
          "output_type": "display_data"
        },
        {
          "data": {
            "text/markdown": "- C. 2",
            "text/plain": [
              "<IPython.core.display.Markdown object>"
            ]
          },
          "metadata": {},
          "output_type": "display_data"
        },
        {
          "data": {
            "text/markdown": "- D. 21",
            "text/plain": [
              "<IPython.core.display.Markdown object>"
            ]
          },
          "metadata": {},
          "output_type": "display_data"
        },
        {
          "name": "stdout",
          "output_type": "stream",
          "text": [
            "Q21: Correct!\n",
            "\n"
          ]
        },
        {
          "data": {
            "text/markdown": "What will be printed by the following code?\n\na = 'Hello'♂b = 'World!'♂c = a + b♂print(c)",
            "text/plain": [
              "<IPython.core.display.Markdown object>"
            ]
          },
          "metadata": {},
          "output_type": "display_data"
        },
        {
          "data": {
            "text/markdown": "- A. Hello World!",
            "text/plain": [
              "<IPython.core.display.Markdown object>"
            ]
          },
          "metadata": {},
          "output_type": "display_data"
        },
        {
          "data": {
            "text/markdown": "- B. HelloWorld",
            "text/plain": [
              "<IPython.core.display.Markdown object>"
            ]
          },
          "metadata": {},
          "output_type": "display_data"
        },
        {
          "data": {
            "text/markdown": "- C. Hello + World!",
            "text/plain": [
              "<IPython.core.display.Markdown object>"
            ]
          },
          "metadata": {},
          "output_type": "display_data"
        },
        {
          "data": {
            "text/markdown": "- D. Error",
            "text/plain": [
              "<IPython.core.display.Markdown object>"
            ]
          },
          "metadata": {},
          "output_type": "display_data"
        }
      ],
      "source": [
        "# Importing display utilities for better formatting\n",
        "from IPython.display import Markdown, display\n",
        "\n",
        "# Function to display questions with options\n",
        "def display_question(question, options):\n",
        "    display(Markdown(question))\n",
        "    for option in options:\n",
        "        display(Markdown(f\"- {option}\"))\n",
        "\n",
        "# Function to check answers\n",
        "def check_answer(question_number, user_answer, correct_answer):\n",
        "    if user_answer.lower() == correct_answer.lower():\n",
        "        print(f\"Q{question_number}: Correct!\")\n",
        "        return True\n",
        "    else:\n",
        "        print(f\"Q{question_number}: Incorrect. The correct answer is '{correct_answer}'.\")\n",
        "        return False\n",
        "\n",
        "# Questions and options\n",
        "questions = [\n",
        "    {\n",
        "        \"question\": \"What does the following code snippet output? \\n\\n variable_name = 'World' \\n \\n print('Hello ' + variable_name + '!')\",\n",
        "        \"options\": [\"A. Hello World!\", \"B. Hello + variable_name + !\", \"C. Hello 'World'!\", \"D. Error\"],\n",
        "        \"answer\": \"A\"\n",
        "    },\n",
        "    {\n",
        "        \"question\": \"Which function is used to print a message to the console in Python?\",\n",
        "        \"options\": [\"A. print()\", \"B. display()\", \"C. show()\", \"D. console.log()\"],\n",
        "        \"answer\": \"A\"\n",
        "    },\n",
        "    {\n",
        "        \"question\": \"How should strings be enclosed in Python?\",\n",
        "        \"options\": [\"A. Single quotes only\", \"B. Double quotes only\", \"C. Either single or double quotes\", \"D. Triple quotes\"],\n",
        "        \"answer\": \"C\"\n",
        "    },\n",
        "    {\n",
        "        \"question\": \"What is the correct way to assign a value to a variable in Python?\",\n",
        "        \"options\": [\"A. var = value\", \"B. set var = value\", \"C. var <- value\", \"D. var := value\"],\n",
        "        \"answer\": \"A\"\n",
        "    },\n",
        "    {\n",
        "        \"question\": \"What is the output of this code?\\n\\nvariable = 100♂variable = 'This is the value'♂print(variable)\",\n",
        "        \"options\": [\"A. This is the value\", \"B. 100\", \"C. Error\", \"D. This is the value 100\"],\n",
        "        \"answer\": \"A\"\n",
        "    },\n",
        "    {\n",
        "        \"question\": \"What character marks the beginning of a comment in Python?\",\n",
        "        \"options\": [\"A. //\", \"B. /*\", \"C. #\", \"D. --\"],\n",
        "        \"answer\": \"C\"\n",
        "    },\n",
        "    {\n",
        "        \"question\": \"What type of error is produced when Python detects an incorrect syntax?\",\n",
        "        \"options\": [\"A. SyntaxError\", \"B. TypeError\", \"C. ValueError\", \"D. KeyError\"],\n",
        "        \"answer\": \"A\"\n",
        "    },\n",
        "    {\n",
        "        \"question\": \"What type of error is produced when a variable is used without being defined?\",\n",
        "        \"options\": [\"A. SyntaxError\", \"B. TypeError\", \"C. ValueError\", \"D. NameError\"],\n",
        "        \"answer\": \"D\"\n",
        "    },\n",
        "    {\n",
        "        \"question\": \"What error will you get when dividing a number by zero in Python?\",\n",
        "        \"options\": [\"A. ZeroError\", \"B. DivideByZeroError\", \"C. MathError\", \"D. ZeroDivisionError\"],\n",
        "        \"answer\": \"D\"\n",
        "    },\n",
        "    {\n",
        "        \"question\": \"Which of the following is NOT a numeric type in Python?\",\n",
        "        \"options\": [\"A. int\", \"B. float\", \"C. double\", \"D. complex\"],\n",
        "        \"answer\": \"C\"\n",
        "    },\n",
        "    {\n",
        "        \"question\": \"What type is variable 'd' in the following code?\\n\\nd = '678'♂print(type(d))\",\n",
        "        \"options\": [\"A. int\", \"B. float\", \"C. str\", \"D. list\"],\n",
        "        \"answer\": \"C\"\n",
        "    },\n",
        "    {\n",
        "        \"question\": \"What does the ** operator do in Python?\",\n",
        "        \"options\": [\"A. Floor division\", \"B. Exponentiation\", \"C. Modulo\", \"D. Bitwise AND\"],\n",
        "        \"answer\": \"B\"\n",
        "    },\n",
        "    {\n",
        "        \"question\": \"What does the % operator do in Python?\",\n",
        "        \"options\": [\"A. Addition\", \"B. Subtraction\", \"C. Multiplication\", \"D. Modulo\"],\n",
        "        \"answer\": \"D\"\n",
        "    },\n",
        "    {\n",
        "        \"question\": \"Which operator is used for string concatenation in Python?\",\n",
        "        \"options\": [\"A. +\", \"B. -\", \"C. *\", \"D. /\"],\n",
        "        \"answer\": \"A\"\n",
        "    },\n",
        "    {\n",
        "        \"question\": \"What is the result of the expression 'Hello' + 'World'?\",\n",
        "        \"options\": [\"A. HelloWorld\", \"B. Hello World\", \"C. Error\", \"D. Hello + World\"],\n",
        "        \"answer\": \"A\"\n",
        "    },\n",
        "    {\n",
        "        \"question\": \"What does the += operator do in Python?\",\n",
        "        \"options\": [\"A. Subtracts from a variable\", \"B. Multiplies a variable\", \"C. Divides a variable\", \"D. Adds to a variable\"],\n",
        "        \"answer\": \"D\"\n",
        "    },\n",
        "    {\n",
        "        \"question\": \"How can multiline strings be defined in Python?\",\n",
        "        \"options\": [\"A. Using parentheses\", \"B. Using single quotes\", \"C. Using triple quotes\", \"D. Using square brackets\"],\n",
        "        \"answer\": \"C\"\n",
        "    },\n",
        "    {\n",
        "        \"question\": \"Which function is used to determine the type of a variable?\",\n",
        "        \"options\": [\"A. typeof()\", \"B. type()\", \"C. variable_type()\", \"D. typeof\"],\n",
        "        \"answer\": \"B\"\n",
        "    },\n",
        "    {\n",
        "        \"question\": \"What is the output of 6.2 * 100?\",\n",
        "        \"options\": [\"A. 620\", \"B. 6.2\", \"C. 62.0\", \"D. 620.0\"],\n",
        "        \"answer\": \"D\"\n",
        "    },\n",
        "    {\n",
        "        \"question\": \"What is the result of 2 ** 0.5?\",\n",
        "        \"options\": [\"A. 1.41\", \"B. 4\", \"C. 2\", \"D. 0.5\"],\n",
        "        \"answer\": \"A\"\n",
        "    },\n",
        "    {\n",
        "        \"question\": \"What does the % operator return for 21 % 2?\",\n",
        "        \"options\": [\"A. 0\", \"B. 1\", \"C. 2\", \"D. 21\"],\n",
        "        \"answer\": \"B\"\n",
        "    },\n",
        "    {\n",
        "        \"question\": \"What will be printed by the following code?\\n\\na = 'Hello'♂b = 'World!'♂c = a + b♂print(c)\",\n",
        "        \"options\": [\"A. Hello World!\", \"B. HelloWorld\", \"C. Hello + World!\", \"D. Error\"],\n",
        "        \"answer\": \"A\"\n",
        "    },\n",
        "    {\n",
        "        \"question\": \"What does the following code snippet output?\\n\\nmessage = 'add words to the String'♂message += ' added'♂print(message)\",\n",
        "        \"options\": [\"A. add words to the String\", \"B. added\", \"C. add words to the String added\", \"D. Error\"],\n",
        "        \"answer\": \"C\"\n",
        "    },\n",
        "    {\n",
        "        \"question\": \"What does the ** operator do in Python?\",\n",
        "        \"options\": [\"A. Floor division\", \"B. Exponentiation\", \"C. Modulo\", \"D. Bitwise AND\"],\n",
        "        \"answer\": \"B\"\n",
        "    },\n",
        "    {\n",
        "        \"question\": \"What does the % operator do in Python?\",\n",
        "        \"options\": [\"A. Addition\", \"B. Subtraction\", \"C. Multiplication\", \"D. Modulo\"],\n",
        "        \"answer\": \"D\"\n",
        "    },\n",
        "    {\n",
        "        \"question\": \"Which operator is used for string concatenation in Python?\",\n",
        "        \"options\": [\"A. +\", \"B. -\", \"C. *\", \"D. /\"],\n",
        "        \"answer\": \"A\"\n",
        "    },\n",
        "    {\n",
        "        \"question\": \"What is the result of the expression 'Hello' + 'World'?\",\n",
        "        \"options\": [\"A. HelloWorld\", \"B. Hello World\", \"C. Error\", \"D. Hello + World\"],\n",
        "        \"answer\": \"A\"\n",
        "    },\n",
        "    {\n",
        "        \"question\": \"What does the += operator do in Python?\",\n",
        "        \"options\": [\"A. Subtracts from a variable\", \"B. Multiplies a variable\", \"C. Divides a variable\", \"D. Adds to a variable\"],\n",
        "        \"answer\": \"D\"\n",
        "    },\n",
        "    {\n",
        "        \"question\": \"How can multiline strings be defined in Python?\",\n",
        "        \"options\": [\"A. Using parentheses\", \"B. Using single quotes\", \"C. Using triple quotes\", \"D. Using square brackets\"],\n",
        "        \"answer\": \"C\"\n",
        "    },\n",
        "    {\n",
        "        \"question\": \"Which function is used to determine the type of a variable?\",\n",
        "        \"options\": [\"A. typeof()\", \"B. type()\", \"C. variable_type()\", \"D. typeof\"],\n",
        "        \"answer\": \"B\"\n",
        "    },\n",
        "    {\n",
        "        \"question\": \"What is the output of 6.2 * 100?\",\n",
        "        \"options\": [\"A. 620\", \"B. 6.2\", \"C. 62.0\", \"D. 620.0\"],\n",
        "        \"answer\": \"D\"\n",
        "    },\n",
        "    {\n",
        "        \"question\": \"What is the result of 2 ** 0.5?\",\n",
        "        \"options\": [\"A. 1.41\", \"B. 4\", \"C. 2\", \"D. 0.5\"],\n",
        "        \"answer\": \"A\"\n",
        "    },\n",
        "    {\n",
        "        \"question\": \"What does the % operator return for 21 % 2?\",\n",
        "        \"options\": [\"A. 0\", \"B. 1\", \"C. 2\", \"D. 21\"],\n",
        "        \"answer\": \"B\"\n",
        "    }\n",
        "]\n",
        "\n",
        "# Displaying questions and options\n",
        "for idx, question in enumerate(questions, 1):\n",
        "    display_question(question[\"question\"], question[\"options\"])\n",
        "    user_answer = input(\"Your answer (A, B, C, or D): \")\n",
        "    check_answer(idx, user_answer, question[\"answer\"])\n",
        "    print()  # Empty line for spacing between questions\n"
      ]
    },
    {
      "cell_type": "code",
      "execution_count": null,
      "id": "i5b-PbkFGZop",
      "metadata": {
        "colab": {
          "base_uri": "https://localhost:8080/"
        },
        "id": "i5b-PbkFGZop",
        "outputId": "959979bc-1c77-43fb-ce83-d8b80411ff8b"
      },
      "outputs": [
        {
          "name": "stdout",
          "output_type": "stream",
          "text": [
            "10.0\n"
          ]
        }
      ],
      "source": [
        "a = 5\n",
        "b = 5.0\n",
        "print(a+b)\n",
        "\n",
        "\n"
      ]
    },
    {
      "cell_type": "code",
      "execution_count": null,
      "id": "HEyFMdksGaov",
      "metadata": {
        "colab": {
          "base_uri": "https://localhost:8080/"
        },
        "id": "HEyFMdksGaov",
        "outputId": "f423ede3-a107-4206-af82-63f29d0175fb"
      },
      "outputs": [
        {
          "name": "stdout",
          "output_type": "stream",
          "text": [
            "Hello!\n"
          ]
        }
      ],
      "source": [
        "print(10-5)\n",
        "\n",
        "\n",
        "\n",
        "\n",
        "\n",
        "\n",
        "\n",
        "\n",
        "\n",
        "\n",
        "\n",
        "\n",
        "\n",
        "\n",
        "\n",
        "\n",
        "\n",
        "\n",
        "\n",
        "\n",
        "\n",
        "\n",
        "\n",
        "\n"
      ]
    },
    {
      "cell_type": "code",
      "execution_count": null,
      "id": "wptL0rG71g2A",
      "metadata": {
        "id": "wptL0rG71g2A"
      },
      "outputs": [],
      "source": []
    },
    {
      "cell_type": "markdown",
      "id": "q6QdYlRk1jL6",
      "metadata": {
        "id": "q6QdYlRk1jL6"
      },
      "source": [
        "**print statement variants.**"
      ]
    },
    {
      "cell_type": "code",
      "execution_count": null,
      "id": "XPx6KzRA1noc",
      "metadata": {
        "id": "XPx6KzRA1noc"
      },
      "outputs": [],
      "source": [
        "# Different Variants of Print Statements in Python\n",
        "\n",
        "# Basic Print Statements\n",
        "# Simple Print\n",
        "print(\"Hello, World!\")\n",
        "\n",
        "# Printing Multiple Items\n",
        "print(\"Hello\", \"World\", \"!\")\n",
        "\n",
        "# String Formatting\n",
        "# Using str.format()\n",
        "name = \"Alice\"\n",
        "age = 30\n",
        "print(\"My name is {} and I am {} years old.\".format(name, age))\n",
        "\n",
        "# Using f-strings (Python 3.6+)\n",
        "name = \"Bob\"\n",
        "age = 25\n",
        "print(f\"My name is {name} and I am {age:.2f} years old.\")\n",
        "\n",
        "# Old-style string formatting\n",
        "name = \"Charlie\"\n",
        "age = 40\n",
        "print(\"My name is %s and I am %d years old.\" % (name, age))\n",
        "\n",
        "# Formatting Numbers\n",
        "# Formatting Floating Point Numbers\n",
        "pi = 3.14159\n",
        "print(f\"Value of pi: {pi:.2f}\")  # Output: Value of pi: 3.14\n",
        "\n",
        "# Special Characters and Escape Sequences\n",
        "# Including Special Characters\n",
        "print(\"Line 1\\nLine 2\")  # Newline\n",
        "print(\"Tab\\tSeparated\")  # Tab\n",
        "print(\"Quote: \\\"Hello\\\"\")  # Double Quote\n",
        "\n",
        "# Printing Variables\n",
        "# Printing Variables Directly\n",
        "x = 10\n",
        "y = 20\n",
        "print(\"x =\", x, \", y =\", y)\n",
        "\n",
        "# Using Sep and End Parameters\n",
        "# Using sep Parameter\n",
        "print(\"Python\", \"is\", \"awesome\", sep=\"-\")\n",
        "\n",
        "# Using end Parameter\n",
        "print(\"This is line 1.\", end=\" \")\n",
        "print(\"This is line 2.\")\n",
        "\n",
        "# Advanced Formatting\n",
        "# Aligning Text\n",
        "print(f\"{'left':<10}{'right':>10}{'center':^10}\")\n",
        "\n",
        "\n",
        "# Combining Different Data Types\n",
        "# Combining Strings and Numbers\n",
        "a = 10\n",
        "b = \"apples\"\n",
        "print(\"I have\", a, b)\n",
        "\n",
        "\n",
        "# Unicode Characters\n",
        "# Printing Unicode Characters\n",
        "print(\"Unicode test: \\u2713\")  # Checkmark character\n",
        "\n",
        "\n"
      ]
    },
    {
      "cell_type": "markdown",
      "id": "h58hF5n82NDA",
      "metadata": {
        "id": "h58hF5n82NDA"
      },
      "source": [
        "**String variants**"
      ]
    },
    {
      "cell_type": "code",
      "execution_count": null,
      "id": "0vYEMy8s2Mix",
      "metadata": {
        "colab": {
          "base_uri": "https://localhost:8080/"
        },
        "id": "0vYEMy8s2Mix",
        "outputId": "e75adeb8-4d4e-4937-e672-ded2dad39d6f"
      },
      "outputs": [
        {
          "name": "stdout",
          "output_type": "stream",
          "text": [
            "Hello, World!\n",
            "HelloHelloHello\n",
            "HELLO, WORLD!\n",
            "hello, world!\n",
            "Hello, world!\n",
            "Hello, World!\n",
            "Hello, World!\n",
            "Hello, World!  \n",
            "  Hello, World!\n",
            "Hello, Python!\n",
            "['Hello', 'World!']\n",
            "Hello, World!\n",
            "True\n",
            "True\n",
            "True\n",
            "False\n",
            "     Hello\n",
            "Hello     \n",
            "  Hello   \n",
            "This is a\n",
            "multiline string\n",
            "example.\n",
            "C:\\Users\\name\n",
            "b'Hello, World!'\n",
            "Hello, World!\n"
          ]
        }
      ],
      "source": [
        "# Different Variants of String Operations in Python\n",
        "\n",
        "# Basic String Operations\n",
        "# Creating Strings\n",
        "single_quote_str = 'Hello, World!'\n",
        "double_quote_str = \"Hello, World!\"\n",
        "triple_quote_str = \"\"\"This is a multi-line\n",
        "string example.\"\"\"\n",
        "\n",
        "# Concatenation\n",
        "str1 = \"Hello\"\n",
        "str2 = \"World\"\n",
        "concatenated_str = str1 + \", \" + str2 + \"!\"\n",
        "print(concatenated_str)  # Output: Hello, World!\n",
        "\n",
        "# Repetition\n",
        "repeated_str = \"Hello\" * 3\n",
        "print(repeated_str)  # Output: HelloHelloHello\n",
        "\n",
        "# Changing Case\n",
        "s = \"Hello, World!\"\n",
        "print(s.upper())  # Output: HELLO, WORLD!\n",
        "print(s.lower())  # Output: hello, world!\n",
        "print(s.capitalize())  # Output: Hello, world!\n",
        "print(s.title())  # Output: Hello, World!\n",
        "\n",
        "# Trimming Whitespace\n",
        "s = \"  Hello, World!  \"\n",
        "print(s.strip())  # Output: \"Hello, World!\"\n",
        "print(s.lstrip())  # Output: \"Hello, World!  \"\n",
        "print(s.rstrip())  # Output: \"  Hello, World!\"\n",
        "\n",
        "# Replacing Substrings\n",
        "s = \"Hello, World!\"\n",
        "print(s.replace(\"World\", \"Python\"))  # Output: Hello, Python!\n",
        "\n",
        "# Splitting and Joining\n",
        "s = \"Hello, World!\"\n",
        "words = s.split(\", \")  # Splits into ['Hello', 'World!']\n",
        "print(words)\n",
        "joined_str = \", \".join(words)  # Joins back to \"Hello, World!\"\n",
        "print(joined_str)\n",
        "\n",
        "# Checking Start and End\n",
        "s = \"Hello, World!\"\n",
        "print(s.startswith(\"Hello\"))  # Output: True\n",
        "print(s.endswith(\"!\"))  # Output: True\n",
        "\n",
        "# Checking Substring\n",
        "s = \"Hello, World!\"\n",
        "print(\"World\" in s)  # Output: True\n",
        "print(\"Python\" in s)  # Output: False\n",
        "\n",
        "\n",
        "# Padding and Alignment\n",
        "s = \"Hello\"\n",
        "print(f\"{s:>10}\")  # Right align with spaces\n",
        "print(f\"{s:<10}\")  # Left align with spaces\n",
        "print(f\"{s:^10}\")  # Center align with spaces\n",
        "\n",
        "\n",
        "# Multiline Strings\n",
        "multiline_str = \"\"\"This is a\n",
        "multiline string\n",
        "example.\"\"\"\n",
        "print(multiline_str)\n",
        "\n",
        "# Raw Strings\n",
        "raw_str = r\"C:\\Users\\name\"\n",
        "print(raw_str)  # Output: C:\\Users\\name\n",
        "\n",
        "# Encoding and Decoding\n",
        "s = \"Hello, World!\"\n",
        "encoded_str = s.encode(\"utf-8\")\n",
        "print(encoded_str)  # Output: b'Hello, World!'\n",
        "decoded_str = encoded_str.decode(\"utf-8\")\n",
        "print(decoded_str)  # Output: Hello, World!\n"
      ]
    },
    {
      "cell_type": "markdown",
      "id": "4Iaw9jWSAyFW",
      "metadata": {
        "id": "4Iaw9jWSAyFW"
      },
      "source": [
        "**Variables variants**"
      ]
    },
    {
      "cell_type": "code",
      "execution_count": null,
      "id": "6RkW98-rA03Y",
      "metadata": {
        "colab": {
          "base_uri": "https://localhost:8080/"
        },
        "id": "6RkW98-rA03Y",
        "outputId": "81377fd9-daf8-413f-95bd-764236870f82"
      },
      "outputs": [
        {
          "name": "stdout",
          "output_type": "stream",
          "text": [
            "x = 10\n",
            "y = 20.5\n",
            "name = Alice\n",
            "is_active = True\n",
            "Type of x: <class 'int'>\n",
            "Type of y: <class 'float'>\n",
            "Type of name: <class 'str'>\n",
            "Type of is_active: <class 'bool'>\n",
            "a = 1 , b = 2.5 , c = Hello\n",
            "After swapping: a = 2.5 , b = 1\n",
            "PI = 3.14159\n",
            "Gravity = 9.8\n",
            "Sum of x and y: 15\n",
            "Is it sunny? True\n",
            "Is it rainy? False\n",
            "Value of no_value: None\n",
            "Type of no_value: <class 'NoneType'>\n",
            "Value of z: 25\n",
            "Value of x after in-place addition: 8\n",
            "Initially var is an integer: 10\n",
            "Now var is a string: Now var is a string\n"
          ]
        }
      ],
      "source": [
        "# Different Variants of Variables in Python\n",
        "\n",
        "# Basic Variable Declaration\n",
        "x = 10\n",
        "y = 20.5\n",
        "name = \"Alice\"\n",
        "is_active = True\n",
        "\n",
        "# Printing Variables\n",
        "print(\"x =\", x)\n",
        "print(\"y =\", y)\n",
        "print(\"name =\", name)\n",
        "print(\"is_active =\", is_active)\n",
        "\n",
        "# Variable Types\n",
        "print(\"Type of x:\", type(x))  # Output: <class 'int'>\n",
        "print(\"Type of y:\", type(y))  # Output: <class 'float'>\n",
        "print(\"Type of name:\", type(name))  # Output: <class 'str'>\n",
        "print(\"Type of is_active:\", type(is_active))  # Output: <class 'bool'>\n",
        "\n",
        "# Multiple Assignment\n",
        "a, b, c = 1, 2.5, \"Hello\"\n",
        "print(\"a =\", a, \", b =\", b, \", c =\", c)\n",
        "\n",
        "# Swapping Variables\n",
        "a, b = b, a\n",
        "print(\"After swapping: a =\", a, \", b =\", b)\n",
        "\n",
        "# Constants (by convention)\n",
        "PI = 3.14159\n",
        "GRAVITY = 9.8\n",
        "print(\"PI =\", PI)\n",
        "print(\"Gravity =\", GRAVITY)\n",
        "\n",
        "# Type Casting\n",
        "x = 5\n",
        "y = \"10\"\n",
        "sum_xy = x + int(y)\n",
        "print(\"Sum of x and y:\", sum_xy)\n",
        "\n",
        "# Boolean Variables\n",
        "is_sunny = True\n",
        "is_rainy = False\n",
        "print(\"Is it sunny?\", is_sunny)\n",
        "print(\"Is it rainy?\", is_rainy)\n",
        "\n",
        "# NoneType\n",
        "no_value = None\n",
        "print(\"Value of no_value:\", no_value)\n",
        "print(\"Type of no_value:\", type(no_value))\n",
        "\n",
        "# Variables in Expressions\n",
        "x = 5\n",
        "y = 10\n",
        "z = x + y * 2\n",
        "print(\"Value of z:\", z)  # Output: 25\n",
        "\n",
        "# In-place Operators\n",
        "x = 5\n",
        "x += 3  # Equivalent to x = x + 3\n",
        "print(\"Value of x after in-place addition:\", x)\n",
        "\n",
        "# Deleting Variables\n",
        "del x\n",
        "# print(x)  # This will raise an error because x is deleted\n",
        "\n",
        "\n",
        "# Dynamic Typing\n",
        "var = 10\n",
        "print(\"Initially var is an integer:\", var)\n",
        "var = \"Now var is a string\"\n",
        "print(\"Now var is a string:\", var)\n",
        "\n"
      ]
    },
    {
      "cell_type": "markdown",
      "id": "dphyajagCN8m",
      "metadata": {
        "id": "dphyajagCN8m"
      },
      "source": [
        "**Comments  variants**"
      ]
    },
    {
      "cell_type": "code",
      "execution_count": null,
      "id": "HDBfmv6lCoeH",
      "metadata": {
        "colab": {
          "base_uri": "https://localhost:8080/"
        },
        "id": "HDBfmv6lCoeH",
        "outputId": "f3fa7351-4b86-4a9b-afcd-425675e2f2d6"
      },
      "outputs": [
        {
          "name": "stdout",
          "output_type": "stream",
          "text": [
            "Hello, World!\n",
            "20\n",
            "End of script\n"
          ]
        }
      ],
      "source": [
        "# Single-line Comments\n",
        "# This is a single-line comment. It explains that the following line prints a message to the console.\n",
        "print(\"Hello, World!\")  # This comment is inline with code.\n",
        "\n",
        "# Multi-line Comments\n",
        "# Multi-line comments can be written using multiple single-line comments.\n",
        "# This can be useful to explain a block of code or a concept in more detail.\n",
        "# Each line of the comment starts with a hash symbol (#).\n",
        "\n",
        "# Using Multi-line String Literals for Comments\n",
        "\"\"\"\n",
        "This is a multi-line string literal.\n",
        "It can be used as a comment, although it's not an official comment syntax in Python.\n",
        "This is often used for docstrings in functions, classes, and modules.\n",
        "\"\"\"\n",
        "\n",
        "'''\n",
        "Multi-line string literals can also be enclosed in single quotes.\n",
        "They serve the same purpose as the double-quoted ones.\n",
        "'''\n",
        "\n",
        "\n",
        "# Commenting Out Code\n",
        "# You can use comments to temporarily disable code that you don't want to run.\n",
        "# print(\"This line is commented out and won't run.\")\n",
        "\n",
        "# Comments for Variable Descriptions\n",
        "name = \"Alice\"  # Name of the user\n",
        "age = 30  # Age of the user\n",
        "is_active = True  # Is the user active?\n",
        "\n",
        "# Inline Comments\n",
        "x = 10  # Initialize x with value 10\n",
        "y = x * 2  # Double the value of x and store in y\n",
        "print(y)  # Print the value of y\n",
        "\n",
        "# Using Comments to Provide Additional Information\n",
        "# Author: Your Name\n",
        "# Date: Today's Date\n",
        "# Description: This script demonstrates various types of comments in Python.\n",
        "\n",
        "# Special Comments\n",
        "# TODO: Add more examples of comments\n",
        "# FIXME: Fix the bug in the complex_calculation function\n",
        "# NOTE: This is a note for developers\n",
        "# WARNING: This part of the code is deprecated and will be removed in future versions\n",
        "\n",
        "# Commenting Best Practices\n",
        "# - Keep comments concise and to the point.\n",
        "# - Use comments to explain why something is done, not what is done.\n",
        "# - Keep the code and comments synchronized.\n",
        "# - Avoid obvious comments that do not add value.\n",
        "# - Use proper grammar and spelling in comments.\n",
        "\n",
        "# The end of the script\n",
        "print(\"End of script\")  # This indicates the end of the script\n"
      ]
    },
    {
      "cell_type": "markdown",
      "id": "rPZHDlYHDPMw",
      "metadata": {
        "id": "rPZHDlYHDPMw"
      },
      "source": [
        "**Errors**\n",
        "\n",
        "| Error Type             | Subtype               | Description                                                                 |\n",
        "|------------------------|-----------------------|-----------------------------------------------------------------------------|\n",
        "| SyntaxError            | -                     | Occurs when the Python parser encounters a syntax error.                    |\n",
        "| IndentationError       | -                     | Occurs when there is incorrect indentation in the code.                     |\n",
        "|                        | TabError              | Occurs when there is an inconsistent use of tabs and spaces in indentation. |\n",
        "| NameError              | -                     | Occurs when a local or global name is not found.                            |\n",
        "| TypeError              | -                     | Occurs when an operation or function is applied to an object of inappropriate type. |\n",
        "| IndexError             | -                     | Occurs when trying to access an element from a list using an out-of-range index.   |\n",
        "| KeyError               | -                     | Occurs when trying to access a key that does not exist in a dictionary.      |\n",
        "| ValueError             | -                     | Occurs when a function receives an argument of the correct type but inappropriate value. |\n",
        "| AttributeError         | -                     | Occurs when an invalid attribute reference is made.                         |\n",
        "| ImportError            | -                     | Occurs when an import statement fails to find the module definition.        |\n",
        "| ModuleNotFoundError    | -                     | Occurs when trying to import a module that cannot be found.                 |\n",
        "| ZeroDivisionError      | -                     | Occurs when dividing by zero.                                               |\n",
        "| FileNotFoundError      | -                     | Occurs when trying to open a file that does not exist.                      |\n",
        "| AssertionError         | -                     | Occurs when an assert statement fails.                                      |\n",
        "| OverflowError          | -                     | Occurs when the result of an arithmetic operation is too large to be expressed. |\n",
        "| RecursionError         | -                     | Occurs when the maximum recursion depth is exceeded.                        |\n",
        "| NotImplementedError    | -                     | Occurs when an abstract method that needs to be implemented in an inherited class is not implemented. |\n",
        "| StopIteration          | -                     | Occurs when the next() function is called on an iterator that has no more items. |\n",
        "| UnicodeError           | -                     | Occurs when a Unicode-related encoding or decoding error occurs.            |\n",
        "|                        | UnicodeEncodeError    | Occurs when encoding a Unicode string to a binary representation fails.     |\n",
        "|                        | UnicodeDecodeError    | Occurs when decoding a binary representation to a Unicode string fails.     |\n",
        "|                        | UnicodeTranslateError | Occurs when translating a Unicode string fails.                             |\n",
        "| ArithmeticError        | -                     | Base class for errors that occur for numeric calculations.                  |\n",
        "|                        | FloatingPointError    | Occurs when a floating point operation fails.                               |\n",
        "|                        | OverflowError         | Occurs when the result of an arithmetic operation is too large to be expressed. |\n",
        "|                        | ZeroDivisionError     | Occurs when dividing by zero.                                               |\n",
        "| EnvironmentError       | -                     | Base class for errors that come from outside the program.                   |\n",
        "|                        | IOError               | Occurs when an I/O operation (such as file handling) fails.                 |\n",
        "|                        | OSError               | Occurs when a system-related operation causes an error.                     |\n",
        "| EOFError               | -                     | Occurs when the input() function hits an end-of-file condition (EOF) without reading any data. |\n",
        "| LookupError            | -                     | Base class for errors raised when a look-up operation fails.                |\n",
        "|                        | IndexError            | Occurs when trying to access an element from a list using an out-of-range index. |\n",
        "|                        | KeyError              | Occurs when trying to access a key that does not exist in a dictionary.     |\n",
        "| MemoryError            | -                     | Occurs when an operation runs out of memory.                                |\n",
        "| ReferenceError         | -                     | Occurs when a weak reference proxy is used to access a garbage collected referent. |\n",
        "| RuntimeError           | -                     | Occurs when an error does not fall under any other category.                |\n",
        "|                        | NotImplementedError   | Occurs when an abstract method that needs to be implemented in an inherited class is not implemented. |\n",
        "|                        | RecursionError        | Occurs when the maximum recursion depth is exceeded.                        |\n",
        "| SystemError            | -                     | Occurs when the interpreter detects an internal error.                      |\n",
        "| SystemExit             | -                     | Occurs when the sys.exit() function is called.                              |\n",
        "| TypeError              | -                     | Occurs when an operation or function is applied to an object of inappropriate type. |\n",
        "| ValueError             | -                     | Occurs when a function receives an argument of the correct type but inappropriate value. |\n",
        "| Warning                | -                     | Base class for warning categories.                                          |\n",
        "|                        | DeprecationWarning    | Occurs when a deprecated feature is used.                                   |\n",
        "|                        | PendingDeprecationWarning | Occurs when a feature is slated for future deprecation.                 |\n",
        "|                        | RuntimeWarning        | Occurs when a runtime warning needs to be reported.                         |\n",
        "|                        | SyntaxWarning         | Occurs when a syntax warning needs to be reported.                          |\n",
        "|                        | UserWarning           | Occurs when a user-defined warning needs to be reported.                    |\n",
        "|                        | FutureWarning         | Occurs when a feature that will change in the future is used.               |\n",
        "|                        | ImportWarning         | Occurs when a module import warning needs to be reported.                   |\n",
        "|                        | UnicodeWarning        | Occurs when a Unicode-related warning needs to be reported.                 |\n",
        "|                        | BytesWarning          | Occurs when a bytes-related warning needs to be reported.                   |\n",
        "|                        | ResourceWarning       | Occurs when a resource usage warning needs to be reported.                  |\n",
        "\n"
      ]
    },
    {
      "cell_type": "code",
      "execution_count": null,
      "id": "SR8qo4xcDPkt",
      "metadata": {
        "colab": {
          "base_uri": "https://localhost:8080/"
        },
        "id": "SR8qo4xcDPkt",
        "outputId": "4ff87eb3-d8ad-44bc-b78f-434c0f3a0fb2"
      },
      "outputs": [
        {
          "name": "stdout",
          "output_type": "stream",
          "text": [
            "End of error demonstration script\n"
          ]
        }
      ],
      "source": [
        "# SyntaxError\n",
        "# This error occurs when the Python parser encounters a syntax error.\n",
        "# Uncomment the following line to see the error.\n",
        "# \\print(\"Hello, World!)\n",
        "\n",
        "# IndentationError\n",
        "# This error occurs when there is incorrect indentation in the code.\n",
        "# Uncomment the following block to see the error.\n",
        "# def function():\n",
        "# print(\"This will cause an IndentationError\")\n",
        "\n",
        "# NameError\n",
        "# This error occurs when a local or global name is not found.\n",
        "# Uncomment the following line to see the error.\n",
        "# print(undeclared_variable)\n",
        "\n",
        "# TypeError\n",
        "# This error occurs when an operation or function is applied to an object of inappropriate type.\n",
        "# Uncomment the following line to see the error.\n",
        "# result = \"string\" + 5\n",
        "\n",
        "# IndexError\n",
        "# This error occurs when trying to access an element from a list using an out-of-range index.\n",
        "# Uncomment the following lines to see the error.\n",
        "# my_list = [1, 2, 3]\n",
        "# print(my_list[3])\n",
        "\n",
        "# KeyError\n",
        "# This error occurs when trying to access a key that does not exist in a dictionary.\n",
        "# Uncomment the following lines to see the error.\n",
        "# my_dict = {\"a\": 1, \"b\": 2}\n",
        "# print(my_dict[\"c\"])\n",
        "\n",
        "# ValueError\n",
        "# This error occurs when a function receives an argument of the correct type but inappropriate value.\n",
        "# Uncomment the following lines to see the error.\n",
        "# int_value = int(\"string\")\n",
        "\n",
        "# AttributeError\n",
        "# This error occurs when an invalid attribute reference is made.\n",
        "# Uncomment the following lines to see the error.\n",
        "# my_list = [1, 2, 3]\n",
        "# my_list.append(4)\n",
        "# my_list.append(5)\n",
        "# my_list.add(6)  # 'list' object has no attribute 'add'\n",
        "\n",
        "# ImportError\n",
        "# This error occurs when an import statement fails to find the module definition.\n",
        "# Uncomment the following lines to see the error.\n",
        "# import non_existent_module\n",
        "\n",
        "# ModuleNotFoundError\n",
        "# This error occurs when trying to import a module that cannot be found.\n",
        "# Uncomment the following lines to see the error.\n",
        "# import non_existent_module\n",
        "\n",
        "# ZeroDivisionError\n",
        "# This error occurs when dividing by zero.\n",
        "# Uncomment the following line to see the error.\n",
        "# result = 10 / 0\n",
        "\n",
        "# FileNotFoundError\n",
        "# This error occurs when trying to open a file that does not exist.\n",
        "# Uncomment the following lines to see the error.\n",
        "# with open(\"non_existent_file.txt\", \"r\") as file:\n",
        "#     content = file.read()\n",
        "\n",
        "# AssertionError\n",
        "# This error occurs when an assert statement fails.\n",
        "# Uncomment the following line to see the error.\n",
        "# assert 2 + 2 == 5, \"Math is wrong!\"\n",
        "\n",
        "# OverflowError\n",
        "# This error occurs when the result of an arithmetic operation is too large to be expressed.\n",
        "# Uncomment the following lines to see the error.\n",
        "# import math\n",
        "# result = math.exp(1000)\n",
        "\n",
        "# RecursionError\n",
        "# This error occurs when the maximum recursion depth is exceeded.\n",
        "# Uncomment the following lines to see the error.\n",
        "# def recursive_function():\n",
        "#     return recursive_function()\n",
        "# recursive_function()\n",
        "\n",
        "# NotImplementedError\n",
        "# This error occurs when an abstract method that needs to be implemented in an inherited class is not implemented.\n",
        "# Uncomment the following lines to see the error.\n",
        "# class BaseClass:\n",
        "#     def method(self):\n",
        "#         raise NotImplementedError(\"This method needs to be implemented in the subclass\")\n",
        "\n",
        "# class SubClass(BaseClass):\n",
        "#     pass\n",
        "\n",
        "# obj = SubClass()\n",
        "# obj.method()\n",
        "\n",
        "# StopIteration\n",
        "# This error occurs when the next() function is called on an iterator that has no more items.\n",
        "# Uncomment the following lines to see the error.\n",
        "# my_list = [1, 2, 3]\n",
        "# my_iterator = iter(my_list)\n",
        "# next(my_iterator)\n",
        "# next(my_iterator)\n",
        "# next(my_iterator)\n",
        "# next(my_iterator)\n",
        "\n",
        "# UnicodeError\n",
        "# This error occurs when a Unicode-related encoding or decoding error occurs.\n",
        "# Uncomment the following lines to see the error.\n",
        "# invalid_utf8 = b\"\\x80abc\"\n",
        "# invalid_utf8.decode(\"utf-8\")\n",
        "\n",
        "print(\"End of error demonstration script\")\n"
      ]
    },
    {
      "cell_type": "markdown",
      "id": "mtqpzOkaIkc2",
      "metadata": {
        "id": "mtqpzOkaIkc2"
      },
      "source": [
        "**Numbers varaints**"
      ]
    },
    {
      "cell_type": "code",
      "execution_count": null,
      "id": "SWXVQIXtIuYq",
      "metadata": {
        "colab": {
          "base_uri": "https://localhost:8080/"
        },
        "id": "SWXVQIXtIuYq",
        "outputId": "8729db2d-272c-4dd6-e1d7-874335244e3e"
      },
      "outputs": [
        {
          "name": "stdout",
          "output_type": "stream",
          "text": [
            "Integer: 42\n",
            "Float: 3.14\n",
            "Complex: (2+3j)\n",
            "Boolean True: True\n",
            "Boolean False: False\n",
            "Hexadecimal: 26\n",
            "Octal: 10\n",
            "Binary: 10\n",
            "Convert int to float: 42.0\n",
            "Convert float to int: 3\n",
            "Convert int to bool: True\n",
            "Convert bool to int: 1\n",
            "True + True: 2\n",
            "True * False: 0\n",
            "Real part of complex number: 2.0\n",
            "Imaginary part of complex number: 3.0\n",
            "Large float with precision: 1.1234567890123457\n",
            "Scientific notation float: 12300.0\n",
            "End of number demonstration script\n"
          ]
        }
      ],
      "source": [
        "# Integer (int)\n",
        "int_num = 42\n",
        "print(f\"Integer: {int_num}\")\n",
        "\n",
        "# Floating-Point Number (float)\n",
        "float_num = 3.14\n",
        "print(f\"Float: {float_num}\")\n",
        "\n",
        "# Complex Number (complex)\n",
        "complex_num = 2 + 3j\n",
        "print(f\"Complex: {complex_num}\")\n",
        "\n",
        "# Boolean (bool)\n",
        "bool_true = True\n",
        "bool_false = False\n",
        "print(f\"Boolean True: {bool_true}\")\n",
        "print(f\"Boolean False: {bool_false}\")\n",
        "\n",
        "# Hexadecimal (hex)\n",
        "hex_num = 0x1a\n",
        "print(f\"Hexadecimal: {hex_num}\")\n",
        "\n",
        "# Octal (oct)\n",
        "oct_num = 0o12\n",
        "print(f\"Octal: {oct_num}\")\n",
        "\n",
        "# Binary (bin)\n",
        "bin_num = 0b1010\n",
        "print(f\"Binary: {bin_num}\")\n",
        "\n",
        "\n",
        "# Type conversion\n",
        "int_to_float = float(int_num)\n",
        "print(f\"Convert int to float: {int_to_float}\")\n",
        "\n",
        "float_to_int = int(float_num)\n",
        "print(f\"Convert float to int: {float_to_int}\")\n",
        "\n",
        "int_to_bool = bool(int_num)\n",
        "print(f\"Convert int to bool: {int_to_bool}\")\n",
        "\n",
        "bool_to_int = int(bool_true)\n",
        "print(f\"Convert bool to int: {bool_to_int}\")\n",
        "\n",
        "\n",
        "# Boolean arithmetic\n",
        "print(f\"True + True: {True + True}\")\n",
        "print(f\"True * False: {True * False}\")\n",
        "\n",
        "# Using complex numbers\n",
        "print(f\"Real part of complex number: {complex_num.real}\")\n",
        "print(f\"Imaginary part of complex number: {complex_num.imag}\")\n",
        "\n",
        "# Floating-point precision\n",
        "large_float = 1.12345678901234567890\n",
        "print(f\"Large float with precision: {large_float}\")\n",
        "\n",
        "# Scientific notation\n",
        "sci_float = 1.23e4\n",
        "print(f\"Scientific notation float: {sci_float}\")\n",
        "\n",
        "print(\"End of number demonstration script\")\n"
      ]
    },
    {
      "cell_type": "markdown",
      "id": "MalX7fxdJIu0",
      "metadata": {
        "id": "MalX7fxdJIu0"
      },
      "source": [
        "**Operations**"
      ]
    },
    {
      "cell_type": "code",
      "execution_count": null,
      "id": "hDc9ljz7J3dp",
      "metadata": {
        "colab": {
          "base_uri": "https://localhost:8080/"
        },
        "id": "hDc9ljz7J3dp",
        "outputId": "a0537ef6-551b-4f66-fe31-93826b1b47f4"
      },
      "outputs": [
        {
          "name": "stdout",
          "output_type": "stream",
          "text": [
            "Addition: 12 + 5 = 17\n",
            "Subtraction: 12 - 5 = 7\n",
            "Multiplication: 12 * 5 = 60\n",
            "Division: 12 / 5 = 2.4\n",
            "Floor Division: 12 // 5 = 2\n",
            "Modulus: 12 % 5 = 2\n",
            "Exponentiation: 12 ** 5 = 248832\n",
            "Float Addition: 7.5 + 2.3 = 9.8\n",
            "Float Subtraction: 7.5 - 2.3 = 5.2\n",
            "Float Multiplication: 7.5 * 2.3 = 17.25\n",
            "Float Division: 7.5 / 2.3 = 3.2608695652173916\n",
            "Float Floor Division: 7.5 // 2.3 = 3.0\n",
            "Float Modulus: 7.5 % 2.3 = 0.6000000000000005\n",
            "Float Exponentiation: 7.5 ** 2.3 = 102.95345030078855\n",
            "Mixed Addition: 12 + 2.3 = 14.3\n",
            "Mixed Subtraction: 7.5 - 5 = 2.5\n",
            "Mixed Multiplication: 12 * 2.3 = 27.599999999999998\n",
            "Mixed Division: 7.5 / 5 = 1.5\n",
            "End of arithmetic operations demonstration script\n"
          ]
        }
      ],
      "source": [
        "# Arithmetic Operations in Python\n",
        "\n",
        "# Addition\n",
        "a = 12\n",
        "b = 5\n",
        "sum_result = a + b\n",
        "print(f\"Addition: {a} + {b} = {sum_result}\")\n",
        "\n",
        "# Subtraction\n",
        "sub_result = a - b\n",
        "print(f\"Subtraction: {a} - {b} = {sub_result}\")\n",
        "\n",
        "# Multiplication\n",
        "mul_result = a * b\n",
        "print(f\"Multiplication: {a} * {b} = {mul_result}\")\n",
        "\n",
        "# Division\n",
        "div_result = a / b\n",
        "print(f\"Division: {a} / {b} = {div_result}\")\n",
        "\n",
        "# Floor Division\n",
        "floor_div_result = a // b\n",
        "print(f\"Floor Division: {a} // {b} = {floor_div_result}\")\n",
        "\n",
        "# Modulus\n",
        "mod_result = a % b\n",
        "print(f\"Modulus: {a} % {b} = {mod_result}\")\n",
        "\n",
        "# Exponentiation\n",
        "exp_result = a ** b\n",
        "print(f\"Exponentiation: {a} ** {b} = {exp_result}\")\n",
        "\n",
        "# Working with floats\n",
        "x = 7.5\n",
        "y = 2.3\n",
        "\n",
        "# Addition with floats\n",
        "float_sum = x + y\n",
        "print(f\"Float Addition: {x} + {y} = {float_sum}\")\n",
        "\n",
        "# Subtraction with floats\n",
        "float_sub = x - y\n",
        "print(f\"Float Subtraction: {x} - {y} = {float_sub}\")\n",
        "\n",
        "# Multiplication with floats\n",
        "float_mul = x * y\n",
        "print(f\"Float Multiplication: {x} * {y} = {float_mul}\")\n",
        "\n",
        "# Division with floats\n",
        "float_div = x / y\n",
        "print(f\"Float Division: {x} / {y} = {float_div}\")\n",
        "\n",
        "# Floor Division with floats\n",
        "float_floor_div = x // y\n",
        "print(f\"Float Floor Division: {x} // {y} = {float_floor_div}\")\n",
        "\n",
        "# Modulus with floats\n",
        "float_mod = x % y\n",
        "print(f\"Float Modulus: {x} % {y} = {float_mod}\")\n",
        "\n",
        "# Exponentiation with floats\n",
        "float_exp = x ** y\n",
        "print(f\"Float Exponentiation: {x} ** {y} = {float_exp}\")\n",
        "\n",
        "# Mixed type arithmetic operations\n",
        "mixed_sum = a + y\n",
        "print(f\"Mixed Addition: {a} + {y} = {mixed_sum}\")\n",
        "\n",
        "mixed_sub = x - b\n",
        "print(f\"Mixed Subtraction: {x} - {b} = {mixed_sub}\")\n",
        "\n",
        "mixed_mul = a * y\n",
        "print(f\"Mixed Multiplication: {a} * {y} = {mixed_mul}\")\n",
        "\n",
        "mixed_div = x / b\n",
        "print(f\"Mixed Division: {x} / {b} = {mixed_div}\")\n",
        "\n",
        "print(\"End of arithmetic operations demonstration script\")\n"
      ]
    },
    {
      "cell_type": "markdown",
      "id": "jJ53hdjL_OXB",
      "metadata": {
        "id": "jJ53hdjL_OXB"
      },
      "source": [
        "**Multi_lines**"
      ]
    },
    {
      "cell_type": "code",
      "execution_count": null,
      "id": "tL6hGSvS_OwV",
      "metadata": {
        "colab": {
          "base_uri": "https://localhost:8080/"
        },
        "id": "tL6hGSvS_OwV",
        "outputId": "5ed908cc-e708-4dd6-bc7d-ba03f8c146e6"
      },
      "outputs": [
        {
          "name": "stdout",
          "output_type": "stream",
          "text": [
            "\n",
            "This is a multiline string.\n",
            "It spans multiple lines.\n",
            "You can add as many lines as you need.\n",
            "\n",
            "\n",
            "This is another multiline string.\n",
            "It also spans multiple lines.\n",
            "Triple single quotes work the same way.\n",
            "\n",
            "This is another multiline string.\n",
            "It also spans multiple lines. \n",
            "Triple single quotes work the same way.\n",
            "\n",
            "This is another multiline string.\n",
            "It also spans multiple lines. \n",
            "Triple single quotes work the same way.\n",
            "\n",
            "\n",
            "This is another multiline string.\n",
            "It also spans multiple lines.\n",
            "Triple single quotes work the same way.\n",
            "\n",
            "This is another multiline string.\n",
            "It also spans multiple lines.\n",
            "Triple single quotes work the same way.\n",
            "\n"
          ]
        }
      ],
      "source": [
        "# Using triple double quotes\n",
        "multiline_string_double = \"\"\"\n",
        "This is a multiline string.\n",
        "It spans multiple lines.\n",
        "You can add as many lines as you need.\n",
        "\"\"\"\n",
        "print(multiline_string_double)\n",
        "# Using triple single quotes\n",
        "multiline_string_double = '''\n",
        "This is another multiline string.\n",
        "It also spans multiple lines.\n",
        "Triple single quotes work the same way.\n",
        "'''\n",
        "print(multiline_string_double)\n",
        "\n",
        "# Using triple single quotes\n",
        "multiline_string_double = '''This is another multiline string.\\nIt also spans multiple lines. \\nTriple single quotes work the same way.\\n'''\n",
        "print(multiline_string_double)\n",
        "\n",
        "# Using triple single quotes\n",
        "multiline_string_double = 'This is another multiline string.\\nIt also spans multiple lines. \\nTriple single quotes work the same way.\\n'\n",
        "print(multiline_string_double)\n",
        "\n",
        "# Using triple single quotes\n",
        "multiline_string_double = '''\n",
        "This is another multiline string.\n",
        "It also spans multiple lines.\n",
        "Triple single quotes work the same way.\n",
        "'''\n",
        "print(multiline_string_double)\n",
        "\n",
        "\n",
        "multiline_string_double = \"\"\"\\\n",
        "This is another multiline string.\n",
        "It also spans multiple lines.\n",
        "Triple single quotes work the same way.\n",
        "\"\"\"\n",
        "\n",
        "print(multiline_string_double)\n",
        "\n",
        "\n",
        "\n",
        "\n"
      ]
    },
    {
      "cell_type": "markdown",
      "id": "1asyUKOGzYVJ",
      "metadata": {
        "id": "1asyUKOGzYVJ"
      },
      "source": []
    },
    {
      "cell_type": "markdown",
      "id": "Gi9Np1MmzYeA",
      "metadata": {
        "id": "Gi9Np1MmzYeA"
      },
      "source": []
    },
    {
      "cell_type": "code",
      "execution_count": null,
      "id": "X9dHdMEozYto",
      "metadata": {
        "colab": {
          "base_uri": "https://localhost:8080/"
        },
        "id": "X9dHdMEozYto",
        "outputId": "eb06444b-8099-4735-eeee-bae147173486"
      },
      "outputs": [
        {
          "name": "stdout",
          "output_type": "stream",
          "text": [
            "2\n"
          ]
        }
      ],
      "source": [
        "print(3^1)"
      ]
    },
    {
      "cell_type": "markdown",
      "id": "fs_eZMJOzwii",
      "metadata": {
        "id": "fs_eZMJOzwii"
      },
      "source": [
        "dfgf"
      ]
    },
    {
      "cell_type": "code",
      "execution_count": null,
      "id": "r288vHryzxN6",
      "metadata": {
        "colab": {
          "base_uri": "https://localhost:8080/"
        },
        "id": "r288vHryzxN6",
        "outputId": "cbc0a3bd-b52b-45b4-ff5a-cfacd22a91a0"
      },
      "outputs": [
        {
          "name": "stdout",
          "output_type": "stream",
          "text": [
            "Requirement already satisfied: pandas in /usr/local/lib/python3.10/dist-packages (2.0.3)\n",
            "Requirement already satisfied: python-dateutil>=2.8.2 in /usr/local/lib/python3.10/dist-packages (from pandas) (2.8.2)\n",
            "Requirement already satisfied: pytz>=2020.1 in /usr/local/lib/python3.10/dist-packages (from pandas) (2023.4)\n",
            "Requirement already satisfied: tzdata>=2022.1 in /usr/local/lib/python3.10/dist-packages (from pandas) (2024.1)\n",
            "Requirement already satisfied: numpy>=1.21.0 in /usr/local/lib/python3.10/dist-packages (from pandas) (1.25.2)\n",
            "Requirement already satisfied: six>=1.5 in /usr/local/lib/python3.10/dist-packages (from python-dateutil>=2.8.2->pandas) (1.16.0)\n"
          ]
        }
      ],
      "source": [
        "!pip install pandas"
      ]
    }
  ],
  "metadata": {
    "colab": {
      "provenance": []
    },
    "kernelspec": {
      "display_name": "Python 3 (ipykernel)",
      "language": "python",
      "name": "python3"
    },
    "language_info": {
      "codemirror_mode": {
        "name": "ipython",
        "version": 3
      },
      "file_extension": ".py",
      "mimetype": "text/x-python",
      "name": "python",
      "nbconvert_exporter": "python",
      "pygments_lexer": "ipython3",
      "version": "3.9.13"
    }
  },
  "nbformat": 4,
  "nbformat_minor": 5
}