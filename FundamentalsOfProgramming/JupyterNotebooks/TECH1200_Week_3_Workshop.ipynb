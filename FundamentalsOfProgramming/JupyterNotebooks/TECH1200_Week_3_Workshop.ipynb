{
  "cells": [
    {
      "cell_type": "code",
      "source": [
        "gradebooks = {\n",
        "    'ID1':\"Name1\",\n",
        "    'ID2':\"Name2\",\n",
        "\n",
        "}\n",
        "\n",
        "for key,value in gradebooks.items():\n",
        "  print(key,value)"
      ],
      "metadata": {
        "colab": {
          "base_uri": "https://localhost:8080/"
        },
        "id": "a2ppRf8g97Lo",
        "outputId": "47a8e6bc-0db5-4785-adda-a16f5889f640"
      },
      "execution_count": null,
      "outputs": [
        {
          "output_type": "stream",
          "name": "stdout",
          "text": [
            "ID1 Name1\n",
            "ID2 Name2\n"
          ]
        }
      ]
    },
    {
      "cell_type": "code",
      "source": [
        "grades = [\n",
        "    ['A',1],\n",
        "    ['B',2],\n",
        "    ['C',3],\n",
        "]\n",
        "print(grades)\n",
        "print(type(grades))\n",
        "print(type(grades[0]))"
      ],
      "metadata": {
        "colab": {
          "base_uri": "https://localhost:8080/"
        },
        "id": "Ot6sDyz3TiQG",
        "outputId": "efa45d3e-6fe5-4983-97bb-91b00a5ddecb"
      },
      "execution_count": null,
      "outputs": [
        {
          "output_type": "stream",
          "name": "stdout",
          "text": [
            "[['A', 1], ['B', 2], ['C', 3]]\n",
            "<class 'list'>\n",
            "<class 'list'>\n"
          ]
        }
      ]
    },
    {
      "cell_type": "code",
      "source": [
        "a = 10\n",
        "b = 10\n",
        "print(a+b)"
      ],
      "metadata": {
        "colab": {
          "base_uri": "https://localhost:8080/"
        },
        "id": "W1t6PuxMTrQG",
        "outputId": "0e5027a3-e51a-4e11-c131-8dc940c0877c"
      },
      "execution_count": null,
      "outputs": [
        {
          "output_type": "stream",
          "name": "stdout",
          "text": [
            "20\n"
          ]
        }
      ]
    },
    {
      "cell_type": "code",
      "source": [
        "names = list(())\n",
        "print(names)\n",
        "\n",
        "\n",
        "\n",
        "\n",
        "\n",
        "\n",
        "\n"
      ],
      "metadata": {
        "colab": {
          "base_uri": "https://localhost:8080/"
        },
        "id": "Bc7yCqi099in",
        "outputId": "75ad54eb-4880-46bb-aa6d-032698dca299"
      },
      "execution_count": null,
      "outputs": [
        {
          "output_type": "stream",
          "name": "stdout",
          "text": [
            "[]\n"
          ]
        }
      ]
    },
    {
      "cell_type": "code",
      "source": [],
      "metadata": {
        "id": "Jje28HvI99k3"
      },
      "execution_count": null,
      "outputs": []
    },
    {
      "cell_type": "code",
      "source": [],
      "metadata": {
        "id": "GAn-OujH99nX"
      },
      "execution_count": null,
      "outputs": []
    },
    {
      "cell_type": "code",
      "source": [],
      "metadata": {
        "id": "qpktwifj99p3"
      },
      "execution_count": null,
      "outputs": []
    },
    {
      "cell_type": "code",
      "source": [],
      "metadata": {
        "id": "JrwgqVf_99sP"
      },
      "execution_count": null,
      "outputs": []
    },
    {
      "cell_type": "code",
      "source": [],
      "metadata": {
        "id": "v7XZnSfO99un"
      },
      "execution_count": null,
      "outputs": []
    },
    {
      "cell_type": "code",
      "source": [],
      "metadata": {
        "id": "rG8FwP2299z4"
      },
      "execution_count": null,
      "outputs": []
    },
    {
      "cell_type": "markdown",
      "source": [
        "# Lists"
      ],
      "metadata": {
        "id": "wPzApKDbjqOt"
      }
    },
    {
      "cell_type": "code",
      "source": [
        "a = input().replace(\".\",\"\")\n",
        "if a.isdigit():\n",
        "  print(\"True\")\n",
        "else:\n",
        "  print(\"Enter a numerica value\")\n"
      ],
      "metadata": {
        "colab": {
          "base_uri": "https://localhost:8080/"
        },
        "id": "4PeHOyfOjml_",
        "outputId": "a03318c6-fc40-4e18-af4e-4e9dbfd9f443"
      },
      "execution_count": null,
      "outputs": [
        {
          "output_type": "stream",
          "name": "stdout",
          "text": [
            "abc\n",
            "Enter a numerica value\n"
          ]
        }
      ]
    },
    {
      "cell_type": "code",
      "source": [
        "\n",
        "\n",
        "\n"
      ],
      "metadata": {
        "colab": {
          "base_uri": "https://localhost:8080/"
        },
        "id": "tAQdUI2q4BPN",
        "outputId": "9d0be88c-f110-41eb-a177-d50cba9abd83"
      },
      "execution_count": null,
      "outputs": [
        {
          "output_type": "stream",
          "name": "stdout",
          "text": [
            "{'apple': 30}\n"
          ]
        }
      ]
    },
    {
      "cell_type": "code",
      "source": [
        "\n",
        "\n",
        "a = [1,3,4,6]\n",
        "for element in a:\n",
        "  print(element)\n"
      ],
      "metadata": {
        "colab": {
          "base_uri": "https://localhost:8080/"
        },
        "id": "215t0RWRwU--",
        "outputId": "9046f9d5-22fd-4ded-8577-8bca16778f44"
      },
      "execution_count": null,
      "outputs": [
        {
          "output_type": "stream",
          "name": "stdout",
          "text": [
            "1\n",
            "3\n",
            "4\n",
            "6\n"
          ]
        }
      ]
    },
    {
      "cell_type": "code",
      "source": [],
      "metadata": {
        "id": "6daxOfSOjol-"
      },
      "execution_count": null,
      "outputs": []
    },
    {
      "cell_type": "code",
      "source": [],
      "metadata": {
        "id": "-hJaTRlCjoFs"
      },
      "execution_count": null,
      "outputs": []
    },
    {
      "cell_type": "code",
      "execution_count": null,
      "metadata": {
        "colab": {
          "base_uri": "https://localhost:8080/",
          "height": 834
        },
        "id": "haX4AJLEsOwW",
        "outputId": "5af5ff44-ddfe-4082-e5b1-bb050bd50143"
      },
      "outputs": [
        {
          "output_type": "stream",
          "name": "stdout",
          "text": [
            "\n",
            "Question 1\n"
          ]
        },
        {
          "output_type": "display_data",
          "data": {
            "text/plain": [
              "<IPython.core.display.Markdown object>"
            ],
            "text/markdown": "1. What is the primary characteristic of a list in Python?"
          },
          "metadata": {}
        },
        {
          "output_type": "display_data",
          "data": {
            "text/plain": [
              "<IPython.core.display.Markdown object>"
            ],
            "text/markdown": "- A. Ordered and immutable"
          },
          "metadata": {}
        },
        {
          "output_type": "display_data",
          "data": {
            "text/plain": [
              "<IPython.core.display.Markdown object>"
            ],
            "text/markdown": "- B. Unordered and mutable"
          },
          "metadata": {}
        },
        {
          "output_type": "display_data",
          "data": {
            "text/plain": [
              "<IPython.core.display.Markdown object>"
            ],
            "text/markdown": "- C. Ordered and mutable"
          },
          "metadata": {}
        },
        {
          "output_type": "display_data",
          "data": {
            "text/plain": [
              "<IPython.core.display.Markdown object>"
            ],
            "text/markdown": "- D. Unordered and immutable"
          },
          "metadata": {}
        },
        {
          "output_type": "stream",
          "name": "stdout",
          "text": [
            "Your answer (A/B/C/D): B\n",
            "Q1: Incorrect. The correct answer is 'C'.\n",
            "\n",
            "Question 2\n"
          ]
        },
        {
          "output_type": "display_data",
          "data": {
            "text/plain": [
              "<IPython.core.display.Markdown object>"
            ],
            "text/markdown": "2. What will the following code output?\n\n```python\ngrades = [35, 50, 65, 85]\ngrades.append(90)\nprint(grades)\n```"
          },
          "metadata": {}
        },
        {
          "output_type": "display_data",
          "data": {
            "text/plain": [
              "<IPython.core.display.Markdown object>"
            ],
            "text/markdown": "- A. [35, 50, 65, 85, 90]"
          },
          "metadata": {}
        },
        {
          "output_type": "display_data",
          "data": {
            "text/plain": [
              "<IPython.core.display.Markdown object>"
            ],
            "text/markdown": "- B. [35, 50, 65, 85]"
          },
          "metadata": {}
        },
        {
          "output_type": "display_data",
          "data": {
            "text/plain": [
              "<IPython.core.display.Markdown object>"
            ],
            "text/markdown": "- C. [35, 50, 65, 85, [90]]"
          },
          "metadata": {}
        },
        {
          "output_type": "display_data",
          "data": {
            "text/plain": [
              "<IPython.core.display.Markdown object>"
            ],
            "text/markdown": "- D. Error"
          },
          "metadata": {}
        },
        {
          "output_type": "error",
          "ename": "KeyboardInterrupt",
          "evalue": "Interrupted by user",
          "traceback": [
            "\u001b[0;31m---------------------------------------------------------------------------\u001b[0m",
            "\u001b[0;31mKeyboardInterrupt\u001b[0m                         Traceback (most recent call last)",
            "\u001b[0;32m<ipython-input-1-87f13b8af31e>\u001b[0m in \u001b[0;36m<cell line: 147>\u001b[0;34m()\u001b[0m\n\u001b[1;32m    148\u001b[0m     \u001b[0mprint\u001b[0m\u001b[0;34m(\u001b[0m\u001b[0;34mf\"\\nQuestion {i+1}\"\u001b[0m\u001b[0;34m)\u001b[0m\u001b[0;34m\u001b[0m\u001b[0;34m\u001b[0m\u001b[0m\n\u001b[1;32m    149\u001b[0m     \u001b[0mdisplay_question\u001b[0m\u001b[0;34m(\u001b[0m\u001b[0mq\u001b[0m\u001b[0;34m[\u001b[0m\u001b[0;34m\"question\"\u001b[0m\u001b[0;34m]\u001b[0m\u001b[0;34m,\u001b[0m \u001b[0mq\u001b[0m\u001b[0;34m[\u001b[0m\u001b[0;34m\"options\"\u001b[0m\u001b[0;34m]\u001b[0m\u001b[0;34m)\u001b[0m\u001b[0;34m\u001b[0m\u001b[0;34m\u001b[0m\u001b[0m\n\u001b[0;32m--> 150\u001b[0;31m     \u001b[0muser_input\u001b[0m \u001b[0;34m=\u001b[0m \u001b[0minput\u001b[0m\u001b[0;34m(\u001b[0m\u001b[0;34m\"Your answer (A/B/C/D): \"\u001b[0m\u001b[0;34m)\u001b[0m\u001b[0;34m.\u001b[0m\u001b[0mstrip\u001b[0m\u001b[0;34m(\u001b[0m\u001b[0;34m)\u001b[0m\u001b[0;34m\u001b[0m\u001b[0;34m\u001b[0m\u001b[0m\n\u001b[0m\u001b[1;32m    151\u001b[0m     \u001b[0;32mif\u001b[0m \u001b[0mcheck_answer\u001b[0m\u001b[0;34m(\u001b[0m\u001b[0mi\u001b[0m \u001b[0;34m+\u001b[0m \u001b[0;36m1\u001b[0m\u001b[0;34m,\u001b[0m \u001b[0muser_input\u001b[0m\u001b[0;34m,\u001b[0m \u001b[0mq\u001b[0m\u001b[0;34m[\u001b[0m\u001b[0;34m\"answer\"\u001b[0m\u001b[0;34m]\u001b[0m\u001b[0;34m)\u001b[0m\u001b[0;34m:\u001b[0m\u001b[0;34m\u001b[0m\u001b[0;34m\u001b[0m\u001b[0m\n\u001b[1;32m    152\u001b[0m         \u001b[0mscore\u001b[0m \u001b[0;34m+=\u001b[0m \u001b[0;36m1\u001b[0m\u001b[0;34m\u001b[0m\u001b[0;34m\u001b[0m\u001b[0m\n",
            "\u001b[0;32m/usr/local/lib/python3.10/dist-packages/ipykernel/kernelbase.py\u001b[0m in \u001b[0;36mraw_input\u001b[0;34m(self, prompt)\u001b[0m\n\u001b[1;32m    849\u001b[0m                 \u001b[0;34m\"raw_input was called, but this frontend does not support input requests.\"\u001b[0m\u001b[0;34m\u001b[0m\u001b[0;34m\u001b[0m\u001b[0m\n\u001b[1;32m    850\u001b[0m             )\n\u001b[0;32m--> 851\u001b[0;31m         return self._input_request(str(prompt),\n\u001b[0m\u001b[1;32m    852\u001b[0m             \u001b[0mself\u001b[0m\u001b[0;34m.\u001b[0m\u001b[0m_parent_ident\u001b[0m\u001b[0;34m,\u001b[0m\u001b[0;34m\u001b[0m\u001b[0;34m\u001b[0m\u001b[0m\n\u001b[1;32m    853\u001b[0m             \u001b[0mself\u001b[0m\u001b[0;34m.\u001b[0m\u001b[0m_parent_header\u001b[0m\u001b[0;34m,\u001b[0m\u001b[0;34m\u001b[0m\u001b[0;34m\u001b[0m\u001b[0m\n",
            "\u001b[0;32m/usr/local/lib/python3.10/dist-packages/ipykernel/kernelbase.py\u001b[0m in \u001b[0;36m_input_request\u001b[0;34m(self, prompt, ident, parent, password)\u001b[0m\n\u001b[1;32m    893\u001b[0m             \u001b[0;32mexcept\u001b[0m \u001b[0mKeyboardInterrupt\u001b[0m\u001b[0;34m:\u001b[0m\u001b[0;34m\u001b[0m\u001b[0;34m\u001b[0m\u001b[0m\n\u001b[1;32m    894\u001b[0m                 \u001b[0;31m# re-raise KeyboardInterrupt, to truncate traceback\u001b[0m\u001b[0;34m\u001b[0m\u001b[0;34m\u001b[0m\u001b[0m\n\u001b[0;32m--> 895\u001b[0;31m                 \u001b[0;32mraise\u001b[0m \u001b[0mKeyboardInterrupt\u001b[0m\u001b[0;34m(\u001b[0m\u001b[0;34m\"Interrupted by user\"\u001b[0m\u001b[0;34m)\u001b[0m \u001b[0;32mfrom\u001b[0m \u001b[0;32mNone\u001b[0m\u001b[0;34m\u001b[0m\u001b[0;34m\u001b[0m\u001b[0m\n\u001b[0m\u001b[1;32m    896\u001b[0m             \u001b[0;32mexcept\u001b[0m \u001b[0mException\u001b[0m \u001b[0;32mas\u001b[0m \u001b[0me\u001b[0m\u001b[0;34m:\u001b[0m\u001b[0;34m\u001b[0m\u001b[0;34m\u001b[0m\u001b[0m\n\u001b[1;32m    897\u001b[0m                 \u001b[0mself\u001b[0m\u001b[0;34m.\u001b[0m\u001b[0mlog\u001b[0m\u001b[0;34m.\u001b[0m\u001b[0mwarning\u001b[0m\u001b[0;34m(\u001b[0m\u001b[0;34m\"Invalid Message:\"\u001b[0m\u001b[0;34m,\u001b[0m \u001b[0mexc_info\u001b[0m\u001b[0;34m=\u001b[0m\u001b[0;32mTrue\u001b[0m\u001b[0;34m)\u001b[0m\u001b[0;34m\u001b[0m\u001b[0;34m\u001b[0m\u001b[0m\n",
            "\u001b[0;31mKeyboardInterrupt\u001b[0m: Interrupted by user"
          ]
        }
      ],
      "source": [
        "# Importing display utilities for better formatting\n",
        "from IPython.display import Markdown, display\n",
        "\n",
        "# Function to display questions with options\n",
        "def display_question(question, options):\n",
        "    display(Markdown(question))\n",
        "    for option in options:\n",
        "        display(Markdown(f\"- {option}\"))\n",
        "\n",
        "# Function to check answers\n",
        "def check_answer(question_number, user_answer, correct_answer):\n",
        "    if user_answer.lower() == correct_answer.lower():\n",
        "        print(f\"Q{question_number}: Correct!\")\n",
        "        return True\n",
        "    else:\n",
        "        print(f\"Q{question_number}: Incorrect. The correct answer is '{correct_answer}'.\")\n",
        "        return False\n",
        "\n",
        "questions = [\n",
        "    {\"question\": \"1. What is the primary characteristic of a list in Python?\",\n",
        "     \"options\": [\"A. Ordered and immutable\", \"B. Unordered and mutable\",\n",
        "                 \"C. Ordered and mutable\", \"D. Unordered and immutable\"],\n",
        "     \"answer\": \"C\"},\n",
        "    {\"question\": \"2. What will the following code output?\\n\\n```python\\ngrades = [35, 50, 65, 85]\\ngrades.append(90)\\nprint(grades)\\n```\",\n",
        "     \"options\": [\"A. [35, 50, 65, 85, 90]\", \"B. [35, 50, 65, 85]\",\n",
        "                 \"C. [35, 50, 65, 85, [90]]\", \"D. Error\"],\n",
        "     \"answer\": \"A\"},\n",
        "    {\"question\": \"3. How can you create an empty list in Python?\",\n",
        "     \"options\": [\"A. `list_empty = []`\", \"B. `list_empty = list()`\",\n",
        "                 \"C. Both A and B\", \"D. None of the above\"],\n",
        "     \"answer\": \"C\"},\n",
        "    {\"question\": \"4. What will `len([])` return?\",\n",
        "     \"options\": [\"A. 0\", \"B. 1\", \"C. None\", \"D. Error\"],\n",
        "     \"answer\": \"A\"},\n",
        "    {\"question\": \"5. What does the `.append()` method do?\",\n",
        "     \"options\": [\"A. Adds an item to the beginning of a list\",\n",
        "                 \"B. Adds an item to the end of a list\",\n",
        "                 \"C. Removes an item from a list\",\n",
        "                 \"D. Sorts the list\"],\n",
        "     \"answer\": \"B\"},\n",
        "    {\"question\": \"6. What will `students[1]` return for the list `students = ['Jing', 'Jim', 'Kerrie', 'Rakesh']`?\",\n",
        "     \"options\": [\"A. 'Jing'\", \"B. 'Jim'\", \"C. 'Kerrie'\", \"D. 'Rakesh'\"],\n",
        "     \"answer\": \"B\"},\n",
        "    {\"question\": \"7. How do you access the last element in a list?\",\n",
        "     \"options\": [\"A. `list[-1]`\", \"B. `list[0]`\", \"C. `list[len(list)]`\", \"D. None of the above\"],\n",
        "     \"answer\": \"A\"},\n",
        "    {\"question\": \"8. What will the following code output?\\n\\n```python\\nstudents = ['Jing', 'Jim', 'Kerrie', 'Rakesh']\\nstudents[-2]\\n```\",\n",
        "     \"options\": [\"A. 'Jing'\", \"B. 'Jim'\", \"C. 'Kerrie'\", \"D. 'Rakesh'\"],\n",
        "     \"answer\": \"C\"},\n",
        "    {\"question\": \"9. What will `students[1:3]` return for the list `students = ['Jing', 'Jim', 'Kerrie', 'Rakesh']`?\",\n",
        "     \"options\": [\"A. ['Jim', 'Kerrie']\", \"B. ['Jing', 'Jim']\",\n",
        "                 \"C. ['Jing', 'Jim', 'Kerrie']\", \"D. ['Kerrie', 'Rakesh']\"],\n",
        "     \"answer\": \"A\"},\n",
        "    {\"question\": \"10. Which method adds multiple items to a list?\",\n",
        "     \"options\": [\"A. extend()\", \"B. append()\", \"C. insert()\", \"D. add()\"],\n",
        "     \"answer\": \"A\"},\n",
        "    {\"question\": \"11. How do you remove an item by index in a list?\",\n",
        "     \"options\": [\"A. `list.pop(index)`\", \"B. `list.remove(index)`\",\n",
        "                 \"C. `del list[index]`\", \"D. Both A and C\"],\n",
        "     \"answer\": \"D\"},\n",
        "    {\"question\": \"12. What is a tuple in Python?\",\n",
        "     \"options\": [\"A. A mutable collection of items\", \"B. An ordered and immutable collection of items\",\n",
        "                 \"C. An unordered collection of unique items\", \"D. A mutable and unordered collection\"],\n",
        "     \"answer\": \"B\"},\n",
        "    {\"question\": \"13. How do you create a tuple with one element?\",\n",
        "     \"options\": [\"A. `(element)`\", \"B. `(element,)`\",\n",
        "                 \"C. `[element]`\", \"D. `{element}`\"],\n",
        "     \"answer\": \"B\"},\n",
        "    {\"question\": \"14. What is the primary characteristic of a set in Python?\",\n",
        "     \"options\": [\"A. Ordered and immutable\", \"B. Unordered and mutable\",\n",
        "                 \"C. Ordered and mutable\", \"D. Unordered and immutable\"],\n",
        "     \"answer\": \"B\"},\n",
        "    {\"question\": \"15. How do you create a dictionary in Python?\",\n",
        "     \"options\": [\"A. `{key: value}`\", \"B. `[key: value]`\",\n",
        "                 \"C. `(key, value)`\", \"D. `{key, value}`\"],\n",
        "     \"answer\": \"A\"},\n",
        "    {\"question\": \"16. What will `grades[0]` return for `grades = {'Math': 85, 'Science': 90}`?\",\n",
        "     \"options\": [\"A. 85\", \"B. 'Math'\", \"C. 'Science'\", \"D. Error\"],\n",
        "     \"answer\": \"D\"},\n",
        "    {\"question\": \"17. What will `grades.get('English')` return for `grades = {'Math': 85, 'Science': 90}`?\",\n",
        "     \"options\": [\"A. 85\", \"B. None\", \"C. 90\", \"D. Error\"],\n",
        "     \"answer\": \"B\"},\n",
        "    {\"question\": \"18. What does the `.keys()` method do in a dictionary?\",\n",
        "     \"options\": [\"A. Returns all the keys\", \"B. Returns all the values\",\n",
        "                 \"C. Returns both keys and values\", \"D. None of the above\"],\n",
        "     \"answer\": \"A\"},\n",
        "    {\"question\": \"19. What will `list(range(5))` return?\",\n",
        "     \"options\": [\"A. [1, 2, 3, 4, 5]\", \"B. [0, 1, 2, 3, 4]\",\n",
        "                 \"C. [0, 1, 2, 3, 4, 5]\", \"D. [0, 1, 2, 3]\"],\n",
        "     \"answer\": \"B\"},\n",
        "    {\"question\": \"20. What will `nums[::2]` return for `nums = [0, 1, 2, 3, 4, 5]`?\",\n",
        "     \"options\": [\"A. [1, 3, 5]\", \"B. [0, 2, 4]\",\n",
        "                 \"C. [0, 1, 3, 5]\", \"D. Error\"],\n",
        "     \"answer\": \"B\"},\n",
        "    {\"question\": \"21. What is slicing in Python?\",\n",
        "     \"options\": [\"A. A method to remove elements\",\n",
        "                 \"B. A technique to copy elements\",\n",
        "                 \"C. A way to retrieve a portion of a collection\",\n",
        "                 \"D. A sorting algorithm\"],\n",
        "     \"answer\": \"C\"},\n",
        "    {\"question\": \"22. Which of the following is immutable?\",\n",
        "     \"options\": [\"A. List\", \"B. Tuple\", \"C. Set\", \"D. Dictionary\"],\n",
        "     \"answer\": \"B\"},\n",
        "    {\"question\": \"23. How do you add an item to a set?\",\n",
        "     \"options\": [\"A. set.append()\", \"B. set.add()\",\n",
        "                 \"C. set.extend()\", \"D. set.insert()\"],\n",
        "     \"answer\": \"B\"},\n",
        "    {\"question\": \"24. What will `set([1, 2, 2, 3])` return?\",\n",
        "     \"options\": [\"A. {1, 2, 2, 3}\", \"B. {1, 2, 3}\",\n",
        "                 \"C. [1, 2, 3]\", \"D. (1, 2, 3)\"],\n",
        "     \"answer\": \"B\"},\n",
        "    {\"question\": \"25. What does the `.update()` method do for dictionaries?\",\n",
        "     \"options\": [\"A. Adds a new key-value pair\",\n",
        "                 \"B. Modifies the value of an existing key\",\n",
        "                 \"C. Adds or updates key-value pairs\",\n",
        "                 \"D. Deletes a key-value pair\"],\n",
        "     \"answer\": \"C\"},\n",
        "    {\"question\": \"26. What is the purpose of the `zip()` function?\",\n",
        "     \"options\": [\"A. To combine two collections element-wise into tuples\",\n",
        "                 \"B. To sort elements\",\n",
        "                 \"C. To compress a list\",\n",
        "                 \"D. To remove duplicates\"],\n",
        "     \"answer\": \"A\"},\n",
        "    {\"question\": \"27. What will `zip(range(3), 'abc')` return?\",\n",
        "     \"options\": [\"A. [(0, 'a'), (1, 'b'), (2, 'c')]\",\n",
        "                 \"B. zip object\",\n",
        "                 \"C. Both A and B\",\n",
        "                 \"D. None\"],\n",
        "     \"answer\": \"C\"},\n",
        "    {\"question\": \"28. How do you sort a list in ascending order?\",\n",
        "     \"options\": [\"A. `list.sort()`\", \"B. `sorted(list)`\",\n",
        "                 \"C. Both A and B\", \"D. None of the above\"],\n",
        "     \"answer\": \"C\"},\n",
        "    {\"question\": \"29. What will `[1, 2, 3] + [4, 5]` return?\",\n",
        "     \"options\": [\"A. [1, 2, 3, 4, 5]\", \"B. [5, 6, 7]\",\n",
        "                 \"C. [4, 5]\", \"D. Error\"],\n",
        "     \"answer\": \"A\"},\n",
        "    {\"question\": \"30. How do you reverse a list in Python?\",\n",
        "     \"options\": [\"A. `list.reverse()`\", \"B. `reversed(list)`\",\n",
        "                 \"C. Both A and B\", \"D. None\"],\n",
        "     \"answer\": \"C\"}\n",
        "]\n",
        "\n",
        "\n",
        "# Display all questions\n",
        "score = 0\n",
        "for i, q in enumerate(questions):\n",
        "    print(f\"\\nQuestion {i+1}\")\n",
        "    display_question(q[\"question\"], q[\"options\"])\n",
        "    user_input = input(\"Your answer (A/B/C/D): \").strip()\n",
        "    if check_answer(i + 1, user_input, q[\"answer\"]):\n",
        "        score += 1\n",
        "\n",
        "print(f\"\\nYour final score is {score}/{len(questions)}!\")\n"
      ]
    },
    {
      "cell_type": "code",
      "source": [
        "grades = [1,2,3,4]\n",
        "grades[-4] = 50\n",
        "print(grades)\n"
      ],
      "metadata": {
        "colab": {
          "base_uri": "https://localhost:8080/"
        },
        "id": "wguGBeI-xYBZ",
        "outputId": "062d340b-a606-42da-84c8-3322ee79509c"
      },
      "execution_count": null,
      "outputs": [
        {
          "output_type": "stream",
          "name": "stdout",
          "text": [
            "[50, 2, 3, 4]\n"
          ]
        }
      ]
    },
    {
      "cell_type": "code",
      "execution_count": null,
      "metadata": {
        "colab": {
          "base_uri": "https://localhost:8080/"
        },
        "id": "NQ9PaCusB7TK",
        "outputId": "b2cfb7a3-3e67-47e9-dad6-8761ef473e8e"
      },
      "outputs": [
        {
          "name": "stdout",
          "output_type": "stream",
          "text": [
            "-11\n",
            "-10\n",
            "-9\n",
            "-8\n",
            "-7\n"
          ]
        }
      ],
      "source": [
        "# Initialization\n",
        "for i in range(5):  # range(5) initializes i from 0 to 4\n",
        "    i = i-11\n",
        "    # Repetitions\n",
        "    print(i)\n",
        "    # i is incremented automatically by the range function\n",
        "\n",
        "# Ending Condition\n",
        "# The loop ends when i reaches 4 (one less than the argument to range)\n"
      ]
    },
    {
      "cell_type": "code",
      "execution_count": null,
      "metadata": {
        "id": "Cm3JfOp1G0uh"
      },
      "outputs": [],
      "source": []
    },
    {
      "cell_type": "code",
      "execution_count": null,
      "metadata": {
        "colab": {
          "base_uri": "https://localhost:8080/"
        },
        "id": "TQQLsFVRG05K",
        "outputId": "7452c139-9e48-488c-a630-be7bf7f39444"
      },
      "outputs": [
        {
          "name": "stdout",
          "output_type": "stream",
          "text": [
            "0\n",
            "1\n",
            "2\n",
            "3\n",
            "4\n",
            "Done\n"
          ]
        }
      ],
      "source": [
        "for i in range(5):  # range(5) initializes i from 0 to 4\n",
        "    if i == 5:\n",
        "        break  # Ending Condition and loop ends when i reaches 4 due to break\n",
        "    # Repetitions\n",
        "    print(i)\n",
        "else:\n",
        "  print(\"Done\")"
      ]
    },
    {
      "cell_type": "code",
      "execution_count": null,
      "metadata": {
        "id": "FgOE3D7PB8Q7"
      },
      "outputs": [],
      "source": []
    },
    {
      "cell_type": "markdown",
      "metadata": {
        "id": "it4E_BJ-HULu"
      },
      "source": [
        "**List Comprehension**"
      ]
    },
    {
      "cell_type": "code",
      "execution_count": null,
      "metadata": {
        "colab": {
          "base_uri": "https://localhost:8080/"
        },
        "id": "ow8YQHonB8TR",
        "outputId": "301c79b4-5af6-465f-f107-804740945bd0"
      },
      "outputs": [
        {
          "name": "stdout",
          "output_type": "stream",
          "text": [
            "['Jing', 'Jim', 'Kerrie']\n",
            "['Jing', 'Jim', 'Kerrie', 'Jing', 'Jim', 'Kerrie']\n"
          ]
        }
      ],
      "source": [
        "students = ['Jing', 'Jim', 'Kerrie', 'Rakesh']\n",
        "new_list =   [name for name in students if 'i' in name]\n",
        "new_list  = []\n",
        "for name in students:\n",
        "  if \"i\" in name:\n",
        "    new_list.append(name)\n",
        "\n",
        "print(new_list)\n",
        "\n",
        "new_list =   [name for name in students if 'i' in name]\n",
        "\n",
        "print(new_list)"
      ]
    },
    {
      "cell_type": "markdown",
      "metadata": {
        "id": "ek669szC2Hvp"
      },
      "source": [
        "https://pythontutor.com/render.html#mode=display\n",
        "\n",
        "https://kamronbekshodmonov.github.io/JELoop-Visualizer/\n",
        "\n"
      ]
    },
    {
      "cell_type": "code",
      "execution_count": null,
      "metadata": {
        "id": "QZo2OC7E2IdY"
      },
      "outputs": [],
      "source": [
        "# Initialization\n",
        "for i in range(5):  # range(5) initializes i from 0 to 4\n",
        "\n",
        "    # Repetitions\n",
        "    print(i)\n",
        "    # i is incremented automatically by the range function\n",
        "\n",
        "# Ending Condition\n",
        "# The loop ends when i reaches 4 (one less than the argument to range)\n",
        "\n",
        "\n",
        "# Initialization\n",
        "i = 0\n",
        "\n",
        "# Ending Condition\n",
        "while i < 5:\n",
        "    # Repetitions\n",
        "    print(i)\n",
        "    i += 1  # Increment i\n",
        "\n",
        "# The loop ends when i reaches 5\n"
      ]
    },
    {
      "cell_type": "code",
      "execution_count": null,
      "metadata": {
        "id": "NvzBWEZ9_0iz"
      },
      "outputs": [],
      "source": [
        "print(\"For Loop Acting Like a While Loop:\")\n",
        "\n",
        "i = 0  # Initialization\n",
        "for _ in range(1000):  # Arbitrary large range to ensure the loop continues\n",
        "    if i >= 5:  # Mimicking the while loop condition\n",
        "        break  # Break out of the loop when condition is met\n",
        "    print(i)  # Repetitions\n",
        "    i += 1  # Increment i\n",
        "\n",
        "print(\"\\nWhile Loop Acting Like a For Loop:\")\n",
        "\n",
        "i = 0  # Initialization\n",
        "while i < 5:  # Mimicking the for loop range condition\n",
        "    print(i)  # Repetitions\n",
        "    i += 1  # Increment i like in a for loop\n"
      ]
    },
    {
      "cell_type": "code",
      "execution_count": null,
      "metadata": {
        "colab": {
          "base_uri": "https://localhost:8080/"
        },
        "id": "C_iZuBUK6g6Q",
        "outputId": "3336e85d-8777-48f6-b361-396e3b4444e6"
      },
      "outputs": [
        {
          "name": "stdout",
          "output_type": "stream",
          "text": [
            "Basic For Loop with Range:\n",
            "0\n",
            "1\n",
            "2\n",
            "3\n",
            "4\n",
            "\n",
            "For Loop with List:\n",
            "apple\n",
            "banana\n",
            "cherry\n",
            "\n",
            "For Loop with Enumerate:\n",
            "0 apple\n",
            "1 banana\n",
            "2 cherry\n",
            "\n",
            "For Loop with Dictionary:\n",
            "Alice 25\n",
            "Bob 30\n",
            "Charlie 35\n",
            "\n",
            "For Loop with Break:\n",
            "0\n",
            "1\n",
            "2\n",
            "\n",
            "For Loop with Continue:\n",
            "0\n",
            "1\n",
            "2\n",
            "4\n",
            "\n",
            "Nested For Loop:\n",
            "i: 0, j: 0\n",
            "i: 0, j: 1\n",
            "i: 0, j: 2\n",
            "i: 1, j: 0\n",
            "i: 1, j: 1\n",
            "i: 1, j: 2\n",
            "i: 2, j: 0\n",
            "i: 2, j: 1\n",
            "i: 2, j: 2\n",
            "\n",
            "Basic While Loop:\n",
            "0\n",
            "1\n",
            "2\n",
            "3\n",
            "4\n",
            "\n",
            "While Loop with Break:\n",
            "0\n",
            "1\n",
            "2\n",
            "\n",
            "While Loop with Continue:\n",
            "1\n",
            "2\n",
            "4\n",
            "5\n",
            "\n",
            "Nested While Loop:\n",
            "i: 0, j: 0\n",
            "i: 0, j: 1\n",
            "i: 0, j: 2\n",
            "i: 1, j: 0\n",
            "i: 1, j: 1\n",
            "i: 1, j: 2\n",
            "i: 2, j: 0\n",
            "i: 2, j: 1\n",
            "i: 2, j: 2\n",
            "\n",
            "While Loop with Else:\n",
            "0\n",
            "1\n",
            "2\n",
            "3\n",
            "4\n",
            "Loop finished\n",
            "\n",
            "For Loop with Else:\n",
            "0\n",
            "1\n",
            "2\n",
            "3\n",
            "4\n",
            "Loop finished\n"
          ]
        }
      ],
      "source": [
        "# For Loop Variants\n",
        "\n",
        "print(\"Basic For Loop with Range:\")\n",
        "for i in range(5):  # Initialization\n",
        "    print(i)  # Repetitions and i is incremented automatically by the range function\n",
        "\n",
        "print(\"\\nFor Loop with List:\")\n",
        "fruits = [\"apple\", \"banana\", \"cherry\"]  # Initialization\n",
        "for fruit in fruits:\n",
        "    print(fruit)  # Repetitions\n",
        "\n",
        "print(\"\\nFor Loop with Enumerate:\")\n",
        "for index, fruit in enumerate(fruits):  # Initialization\n",
        "    print(index, fruit)  # Repetitions\n",
        "\n",
        "print(\"\\nFor Loop with Dictionary:\")\n",
        "ages = {\"Alice\": 25, \"Bob\": 30, \"Charlie\": 35}  # Initialization\n",
        "for name, age in ages.items():\n",
        "    print(name, age)  # Repetitions\n",
        "\n",
        "print(\"\\nFor Loop with Break:\")\n",
        "for i in range(5):  # Initialization\n",
        "    if i == 3:\n",
        "        break  # Ending Condition and loop ends when i reaches 3 due to break\n",
        "    print(i)  # Repetitions\n",
        "\n",
        "print(\"\\nFor Loop with Continue:\")\n",
        "for i in range(5):  # Initialization\n",
        "    if i == 3:\n",
        "        continue  # Ending Condition and loop skips the iteration when i is 3 due to continue\n",
        "    print(i)  # Repetitions\n",
        "\n",
        "print(\"\\nNested For Loop:\")\n",
        "for i in range(3):  # Initialization\n",
        "    for j in range(3):\n",
        "        print(f\"i: {i}, j: {j}\")  # Repetitions\n",
        "\n",
        "# While Loop Variants\n",
        "\n",
        "print(\"\\nBasic While Loop:\")\n",
        "i = 0  # Initialization\n",
        "while i < 5:  # Ending Condition\n",
        "    print(i)  # Repetitions\n",
        "    i += 1  # Increment i\n",
        "\n",
        "print(\"\\nWhile Loop with Break:\")\n",
        "i = 0  # Initialization\n",
        "while i < 5:  # Ending Condition\n",
        "    if i == 3:\n",
        "        break  # Ending Condition and loop ends when i reaches 3 due to break\n",
        "    print(i)  # Repetitions\n",
        "    i += 1  # Increment i\n",
        "\n",
        "print(\"\\nWhile Loop with Continue:\")\n",
        "i = 0  # Initialization\n",
        "while i < 5:  # Ending Condition\n",
        "    i += 1  # Increment i\n",
        "    if i == 3:\n",
        "        continue  # Ending Condition and loop skips the iteration when i is 3 due to continue\n",
        "    print(i)  # Repetitions\n",
        "\n",
        "print(\"\\nNested While Loop:\")\n",
        "i = 0  # Initialization\n",
        "while i < 3:  # Ending Condition\n",
        "    j = 0\n",
        "    while j < 3:\n",
        "        print(f\"i: {i}, j: {j}\")  # Repetitions\n",
        "        j += 1  # Increment j\n",
        "    i += 1  # Increment i\n",
        "\n",
        "print(\"\\nWhile Loop with Else:\")\n",
        "i = 0  # Initialization\n",
        "while i < 5:  # Ending Condition\n",
        "    print(i)  # Repetitions\n",
        "    i += 1  # Increment i\n",
        "else:\n",
        "    print(\"Loop finished\")  # Loop finished\n",
        "\n",
        "print(\"\\nFor Loop with Else:\")\n",
        "for i in range(5):  # Initialization\n",
        "    print(i)  # Repetitions\n",
        "else:\n",
        "    print(\"Loop finished\")  # Loop finished\n"
      ]
    },
    {
      "cell_type": "code",
      "execution_count": null,
      "metadata": {
        "colab": {
          "base_uri": "https://localhost:8080/"
        },
        "id": "HeiqDPzTNUBl",
        "outputId": "18e7f242-2b22-41cf-c38a-b75eb6780e1d"
      },
      "outputs": [
        {
          "name": "stdout",
          "output_type": "stream",
          "text": [
            "Jing\n",
            "35\n",
            "Jim\n",
            "50\n",
            "Kerrie\n",
            "65\n",
            "Rakesh\n",
            "85\n"
          ]
        }
      ],
      "source": [
        "gradebook = [   ['Jing', 35],   ['Jim', 50],    ['Kerrie', 65], ['Rakesh', 85]]\n",
        "\n",
        "\n",
        "for grade in  gradebook:\n",
        "  for gradebook in grade:\n",
        "    print(gradebook)\n",
        "\n",
        "\n",
        "#for grade in gradebook:\n",
        "#  print(\"Name: \", grade[0],\" - Grade: \",grade[1])\n"
      ]
    },
    {
      "cell_type": "code",
      "execution_count": null,
      "metadata": {
        "colab": {
          "base_uri": "https://localhost:8080/"
        },
        "id": "8dVCmkuCOrIZ",
        "outputId": "dd5f58ce-95ef-4538-e25f-3e32fe28c4f6"
      },
      "outputs": [
        {
          "name": "stdout",
          "output_type": "stream",
          "text": [
            "[6, 7, 8, 9]\n"
          ]
        }
      ],
      "source": [
        "students = ['Jing', 'Jim', 'Kerrie', 'Rakesh']\n",
        "new_list = [name for name in students]\n",
        "new_list = [<expression> for <temp var> in <collection>]\n",
        "\n",
        "\n",
        "new_list = [<expression> for <temp var> in <collection> <conditional statement>]\n",
        "asimplelist = [number for number in range(1, 10) if number > 5]\n",
        "print(asimplelist)"
      ]
    },
    {
      "cell_type": "code",
      "execution_count": null,
      "metadata": {
        "colab": {
          "base_uri": "https://localhost:8080/"
        },
        "id": "JvphsKOLP8lN",
        "outputId": "3efda1ee-6e64-4a96-8ab3-a80eecb045b6"
      },
      "outputs": [
        {
          "name": "stdout",
          "output_type": "stream",
          "text": [
            "['jing', 'jim', 'kerrie', 'rakesh']\n"
          ]
        }
      ],
      "source": [
        "students = ['Jing', 'Jim', 'Kerrie', 'Rakesh']\n",
        "new_list = [name.lower() for name in students]\n",
        "print(new_list)"
      ]
    },
    {
      "cell_type": "code",
      "execution_count": null,
      "metadata": {
        "colab": {
          "base_uri": "https://localhost:8080/"
        },
        "id": "XkvXfvHwNgkG",
        "outputId": "9f5fc3b3-583f-40d1-eec5-4275c88ae5da"
      },
      "outputs": [
        {
          "name": "stdout",
          "output_type": "stream",
          "text": [
            "X\n",
            "X\n",
            "X\n"
          ]
        }
      ],
      "source": [
        "if print(\"X\")==print(\"X\"):\n",
        "  print(\"X\")"
      ]
    }
  ],
  "metadata": {
    "colab": {
      "provenance": []
    },
    "kernelspec": {
      "display_name": "Python 3",
      "name": "python3"
    },
    "language_info": {
      "name": "python"
    }
  },
  "nbformat": 4,
  "nbformat_minor": 0
}